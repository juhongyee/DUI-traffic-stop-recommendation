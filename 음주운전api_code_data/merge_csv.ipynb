{
 "cells": [
  {
   "cell_type": "code",
   "execution_count": 17,
   "id": "8fa3e542",
   "metadata": {},
   "outputs": [],
   "source": [
    "import pandas as pd\n",
    "from glob import glob\n",
    "import os\n",
    "\n",
    "file_names = glob(\"C:/Users/강인순/OneDrive - 아주대학교/대학교/3학년 2학기/캡스톤/코딩/음주데이터합성/*.csv\") #폴더 내의 모든 csv파일 목록을 불러온다\n",
    "total = []\n",
    "for file in file_names:\n",
    "    df = pd.read_csv(file,encoding = 'CP949')\n",
    "    total.append(df)"
   ]
  },
  {
   "cell_type": "code",
   "execution_count": 18,
   "id": "c447c51f",
   "metadata": {},
   "outputs": [],
   "source": [
    "dataCombine = pd.concat(total,axis=0,ignore_index=True)"
   ]
  },
  {
   "cell_type": "code",
   "execution_count": 19,
   "id": "98d03c84",
   "metadata": {},
   "outputs": [
    {
     "name": "stdout",
     "output_type": "stream",
     "text": [
      "          관할경찰서    나이  성별   알콜농도     연번  적발횟수 측정거부여부              측정일시\n",
      "0       일산동부경찰서  30.0  남자  0.105      1     1      N  2020-01-01 00:03\n",
      "1       부산연제경찰서  57.0  남자  0.077      2     1      N  2020-01-01 00:13\n",
      "2       부천소사경찰서  68.0  남자  0.089      3     1      N  2020-01-01 00:17\n",
      "3       마산중부경찰서  39.0  남자  0.133      4     1      N  2020-01-01 00:17\n",
      "4       수원서부경찰서  37.0  남자  0.000      5     1      Y  2020-01-01 00:19\n",
      "...         ...   ...  ..    ...    ...   ...    ...               ...\n",
      "24797  인천미추홀경찰서  25.0  남자  0.097  24798     1      N  2020-03-31 23:57\n",
      "24798     서산경찰서  47.0  남자  0.175  24799     1      N  2020-03-31 23:57\n",
      "24799   수원중부경찰서  48.0  남자  0.122  24800     1      N  2020-03-31 23:57\n",
      "24800   인천삼산경찰서  42.0  남자  0.000  24801     1      Y  2020-03-31 23:58\n",
      "24801   서울강남경찰서  45.0  남자  0.124  24802     1      N  2020-03-31 23:59\n",
      "\n",
      "[24802 rows x 8 columns]\n"
     ]
    }
   ],
   "source": [
    "print(dataCombine)"
   ]
  },
  {
   "cell_type": "code",
   "execution_count": 23,
   "id": "d6480f5b",
   "metadata": {},
   "outputs": [],
   "source": [
    "dataCombine.to_csv('C:/Users/강인순/OneDrive - 아주대학교/대학교/3학년 2학기/캡스톤/코딩/20200518.csv',index=False,encoding='CP949')"
   ]
  },
  {
   "cell_type": "code",
   "execution_count": null,
   "id": "69aee9c6",
   "metadata": {},
   "outputs": [],
   "source": []
  }
 ],
 "metadata": {
  "kernelspec": {
   "display_name": "Python 3 (ipykernel)",
   "language": "python",
   "name": "python3"
  },
  "language_info": {
   "codemirror_mode": {
    "name": "ipython",
    "version": 3
   },
   "file_extension": ".py",
   "mimetype": "text/x-python",
   "name": "python",
   "nbconvert_exporter": "python",
   "pygments_lexer": "ipython3",
   "version": "3.9.12"
  }
 },
 "nbformat": 4,
 "nbformat_minor": 5
}

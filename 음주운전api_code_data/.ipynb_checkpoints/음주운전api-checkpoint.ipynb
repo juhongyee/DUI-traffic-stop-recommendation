{
 "cells": [
  {
   "cell_type": "code",
   "execution_count": 5,
   "id": "a420f9f9",
   "metadata": {},
   "outputs": [],
   "source": [
    "import requests\n",
    "import pprint\n",
    "\n",
    "headers = {\n",
    "    'accept': 'application/json',\n",
    "}\n",
    "\n",
    "params = {\n",
    "    'page': '1',\n",
    "    'perPage': '10',\n",
    "    'serviceKey': 'wL4MxrSnaK3rJWaDec25e+HuVPSPhGV0XUi4wfMuMK2Ef3orb45Wil90HaT5eQmnayCa1OflSIUl9ly6vx9dtw==',\n",
    "}\n",
    "\n",
    "response = requests.get('https://api.odcloud.kr/api/15043308/v1/uddi:08bccb32-d81c-448f-a481-a8e80d7078db', params=params, headers=headers)"
   ]
  },
  {
   "cell_type": "code",
   "execution_count": 6,
   "id": "8553e88b",
   "metadata": {},
   "outputs": [],
   "source": [
    "import json\n",
    "import csv"
   ]
  },
  {
   "cell_type": "code",
   "execution_count": 7,
   "id": "8391223a",
   "metadata": {},
   "outputs": [],
   "source": [
    "json_object = json.loads(response.content)['data']"
   ]
  },
  {
   "cell_type": "code",
   "execution_count": 11,
   "id": "38d2a1fe",
   "metadata": {
    "scrolled": true
   },
   "outputs": [
    {
     "name": "stdout",
     "output_type": "stream",
     "text": [
      "[{'성별\\t적발횟수\\t나이\\t알콜농도\\t측정일시\\t관할경찰서': '남자\\t1\\t25\\t0.051\\t2021-01-01 00:01\\t포천경찰서'}, {'성별\\t적발횟수\\t나이\\t알콜농도\\t측정일시\\t관할경찰서': '남자\\t1\\t62\\t0.099\\t2021-01-01 00:02\\t대전대덕경찰서'}, {'성별\\t적발횟수\\t나이\\t알콜농도\\t측정일시\\t관할경찰서': '남자\\t1\\t44\\t0.082\\t2021-01-01 00:04\\t서울송파경찰서'}, {'성별\\t적발횟수\\t나이\\t알콜농도\\t측정일시\\t관할경찰서': '남자\\t1\\t40\\t0.067\\t2021-01-01 00:05\\t울산울주경찰서'}, {'성별\\t적발횟수\\t나이\\t알콜농도\\t측정일시\\t관할경찰서': '여자\\t1\\t54\\t0.143\\t2021-01-01 00:08\\t철원경찰서'}, {'성별\\t적발횟수\\t나이\\t알콜농도\\t측정일시\\t관할경찰서': '남자\\t1\\t59\\t0.161\\t2021-01-01 00:11\\t부산해운대경찰서'}, {'성별\\t적발횟수\\t나이\\t알콜농도\\t측정일시\\t관할경찰서': '여자\\t1\\t49\\t0.129\\t2021-01-01 00:13\\t속초경찰서'}, {'성별\\t적발횟수\\t나이\\t알콜농도\\t측정일시\\t관할경찰서': '여자\\t1\\t49\\t0.132\\t2021-01-01 00:13\\t서울서초경찰서'}, {'성별\\t적발횟수\\t나이\\t알콜농도\\t측정일시\\t관할경찰서': '남자\\t1\\t56\\t0.072\\t2021-01-01 00:20\\t예산경찰서'}, {'성별\\t적발횟수\\t나이\\t알콜농도\\t측정일시\\t관할경찰서': '남자\\t1\\t35\\t측정거부\\t2021-01-01 00:23\\t서울강남경찰서'}]\n"
     ]
    }
   ],
   "source": [
    "#print(json_object[0].keys())\n",
    "print(json_object)"
   ]
  },
  {
   "cell_type": "code",
   "execution_count": 15,
   "id": "682d4119",
   "metadata": {},
   "outputs": [
    {
     "name": "stdout",
     "output_type": "stream",
     "text": [
      "dict_keys(['성별', '적발횟수', '나이', '알콜농도', '측정일시', '관할경찰서'])\n"
     ]
    }
   ],
   "source": [
    "#json 형식과 같은 dict list를 만들어주자.\n",
    "Dict_list = []\n",
    "for Dict in json_object:\n",
    "    \n",
    "    data = Dict['성별\\t적발횟수\\t나이\\t알콜농도\\t측정일시\\t관할경찰서']\n",
    "    parsed = data.split('\\t')\n",
    "    newdict = dict(성별 = parsed[0],적발횟수 = parsed[1], 나이 = parsed[2], 알콜농도 = parsed[3], 측정일시 = parsed[4],관할경찰서 = parsed[5])\n",
    "    Dict_list.append(newdict)\n",
    "#print(Dict_list[0].keys())"
   ]
  },
  {
   "cell_type": "code",
   "execution_count": 17,
   "id": "f20946ca",
   "metadata": {},
   "outputs": [],
   "source": [
    "with open(\"20221231_test2.csv\",'w') as f:\n",
    "    wr = csv.DictWriter(f, fieldnames = Dict_list[0].keys())\n",
    "    wr.writeheader()\n",
    "    wr.writerows(Dict_list)"
   ]
  },
  {
   "cell_type": "code",
   "execution_count": 72,
   "id": "f5b822a2",
   "metadata": {},
   "outputs": [],
   "source": [
    "import pandas as pd"
   ]
  },
  {
   "cell_type": "code",
   "execution_count": 75,
   "id": "0529422b",
   "metadata": {},
   "outputs": [],
   "source": [
    "df = pd.DataFrame(pd.read_csv(\"C:/Users/강인순/OneDrive - 아주대학교/대학교/3학년 2학기/캡스톤/코딩/practice.csv\",encoding = 'CP949'))"
   ]
  },
  {
   "cell_type": "code",
   "execution_count": 76,
   "id": "962d096e",
   "metadata": {},
   "outputs": [
    {
     "data": {
      "text/html": [
       "<div>\n",
       "<style scoped>\n",
       "    .dataframe tbody tr th:only-of-type {\n",
       "        vertical-align: middle;\n",
       "    }\n",
       "\n",
       "    .dataframe tbody tr th {\n",
       "        vertical-align: top;\n",
       "    }\n",
       "\n",
       "    .dataframe thead th {\n",
       "        text-align: right;\n",
       "    }\n",
       "</style>\n",
       "<table border=\"1\" class=\"dataframe\">\n",
       "  <thead>\n",
       "    <tr style=\"text-align: right;\">\n",
       "      <th></th>\n",
       "      <th>관할경찰서</th>\n",
       "      <th>나이</th>\n",
       "      <th>성별</th>\n",
       "      <th>알콜농도</th>\n",
       "      <th>연번</th>\n",
       "      <th>적발횟수</th>\n",
       "      <th>측정거부여부</th>\n",
       "      <th>측정일시</th>\n",
       "    </tr>\n",
       "  </thead>\n",
       "  <tbody>\n",
       "    <tr>\n",
       "      <th>0</th>\n",
       "      <td>일산동부경찰서</td>\n",
       "      <td>30</td>\n",
       "      <td>남자</td>\n",
       "      <td>0.105</td>\n",
       "      <td>1</td>\n",
       "      <td>1</td>\n",
       "      <td>N</td>\n",
       "      <td>2020-01-01 00:03</td>\n",
       "    </tr>\n",
       "    <tr>\n",
       "      <th>1</th>\n",
       "      <td>부산연제경찰서</td>\n",
       "      <td>57</td>\n",
       "      <td>남자</td>\n",
       "      <td>0.077</td>\n",
       "      <td>2</td>\n",
       "      <td>1</td>\n",
       "      <td>N</td>\n",
       "      <td>2020-01-01 00:13</td>\n",
       "    </tr>\n",
       "    <tr>\n",
       "      <th>2</th>\n",
       "      <td>부천소사경찰서</td>\n",
       "      <td>68</td>\n",
       "      <td>남자</td>\n",
       "      <td>0.089</td>\n",
       "      <td>3</td>\n",
       "      <td>1</td>\n",
       "      <td>N</td>\n",
       "      <td>2020-01-01 00:17</td>\n",
       "    </tr>\n",
       "    <tr>\n",
       "      <th>3</th>\n",
       "      <td>마산중부경찰서</td>\n",
       "      <td>39</td>\n",
       "      <td>남자</td>\n",
       "      <td>0.133</td>\n",
       "      <td>4</td>\n",
       "      <td>1</td>\n",
       "      <td>N</td>\n",
       "      <td>2020-01-01 00:17</td>\n",
       "    </tr>\n",
       "    <tr>\n",
       "      <th>4</th>\n",
       "      <td>수원서부경찰서</td>\n",
       "      <td>37</td>\n",
       "      <td>남자</td>\n",
       "      <td>0.000</td>\n",
       "      <td>5</td>\n",
       "      <td>1</td>\n",
       "      <td>Y</td>\n",
       "      <td>2020-01-01 00:19</td>\n",
       "    </tr>\n",
       "  </tbody>\n",
       "</table>\n",
       "</div>"
      ],
      "text/plain": [
       "     관할경찰서  나이  성별   알콜농도  연번  적발횟수 측정거부여부              측정일시\n",
       "0  일산동부경찰서  30  남자  0.105   1     1      N  2020-01-01 00:03\n",
       "1  부산연제경찰서  57  남자  0.077   2     1      N  2020-01-01 00:13\n",
       "2  부천소사경찰서  68  남자  0.089   3     1      N  2020-01-01 00:17\n",
       "3  마산중부경찰서  39  남자  0.133   4     1      N  2020-01-01 00:17\n",
       "4  수원서부경찰서  37  남자  0.000   5     1      Y  2020-01-01 00:19"
      ]
     },
     "execution_count": 76,
     "metadata": {},
     "output_type": "execute_result"
    }
   ],
   "source": [
    "df.head()"
   ]
  },
  {
   "cell_type": "code",
   "execution_count": 33,
   "id": "06ba3e43",
   "metadata": {},
   "outputs": [],
   "source": [
    "# 한 번에 작동하는 code\n",
    "import requests\n",
    "import pprint\n",
    "import json\n",
    "import csv\n",
    "\n",
    "page_url = 'https://api.odcloud.kr/api/15043308/v1/uddi:8a04f8c7-fefd-4f55-8865-b1f9e864d43d'\n",
    "headers = {\n",
    "    'accept': 'application/json',\n",
    "}\n",
    "\n",
    "params = {\n",
    "    'page': '1',\n",
    "    'perPage': '10',\n",
    "    'serviceKey': 'wL4MxrSnaK3rJWaDec25e+HuVPSPhGV0XUi4wfMuMK2Ef3orb45Wil90HaT5eQmnayCa1OflSIUl9ly6vx9dtw==',\n",
    "}\n",
    "\n",
    "response = requests.get(page_url, params=params, headers=headers)\n",
    "\n",
    "matchCount = json.loads(response.content)['matchCount']\n",
    "perPage = 10000 #perpage는 사용자가 설정\n",
    "page = int(matchCount)//10000+2\n",
    "\n",
    "for i in range(1,page):\n",
    "    headers = {\n",
    "        'accept': 'application/json',\n",
    "    }\n",
    "\n",
    "    params = {\n",
    "        'page': str(i),\n",
    "        'perPage': str(perPage),\n",
    "        'serviceKey': 'wL4MxrSnaK3rJWaDec25e+HuVPSPhGV0XUi4wfMuMK2Ef3orb45Wil90HaT5eQmnayCa1OflSIUl9ly6vx9dtw==',\n",
    "    }\n",
    "\n",
    "    response = requests.get(page_url, params=params, headers=headers)\n",
    "\n",
    "    #'data'part만 가져오기\n",
    "    json_object = json.loads(response.content)['data']\n",
    "\n",
    "    Dict_list = []\n",
    "    for Dict in json_object:\n",
    "\n",
    "        data = Dict['성별\\t적발횟수\\t나이\\t알콜농도\\t측정일시\\t관할경찰서']\n",
    "        parsed = data.split('\\t')\n",
    "        newdict = dict(성별 = parsed[0],적발횟수 = parsed[1], 나이 = parsed[2], 알콜농도 = parsed[3], 측정일시 = parsed[4],관할경찰서 = parsed[5])\n",
    "        Dict_list.append(newdict)\n",
    "    if(i == 1):\n",
    "        with open(\"20220731.csv\",'a',newline='') as f:\n",
    "            wr = csv.DictWriter(f, fieldnames = Dict_list[0].keys())\n",
    "            wr.writeheader()\n",
    "            wr.writerows(Dict_list)\n",
    "    else:\n",
    "        with open(\"20220731.csv\",'a',newline='') as f:\n",
    "            wr = csv.DictWriter(f, fieldnames = Dict_list[0].keys())\n",
    "            wr.writerows(Dict_list)"
   ]
  },
  {
   "cell_type": "code",
   "execution_count": null,
   "id": "712efd7b",
   "metadata": {},
   "outputs": [],
   "source": []
  }
 ],
 "metadata": {
  "kernelspec": {
   "display_name": "Python 3 (ipykernel)",
   "language": "python",
   "name": "python3"
  },
  "language_info": {
   "codemirror_mode": {
    "name": "ipython",
    "version": 3
   },
   "file_extension": ".py",
   "mimetype": "text/x-python",
   "name": "python",
   "nbconvert_exporter": "python",
   "pygments_lexer": "ipython3",
   "version": "3.9.12"
  }
 },
 "nbformat": 4,
 "nbformat_minor": 5
}

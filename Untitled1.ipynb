{
 "cells": [
  {
   "cell_type": "code",
   "execution_count": 2,
   "id": "a209ab21",
   "metadata": {},
   "outputs": [],
   "source": [
    "from pyproj import Proj, transform\n",
    "import pandas as pd"
   ]
  },
  {
   "cell_type": "code",
   "execution_count": 3,
   "id": "3eb17c8f",
   "metadata": {},
   "outputs": [
    {
     "name": "stderr",
     "output_type": "stream",
     "text": [
      "/opt/anaconda3/lib/python3.9/site-packages/pyproj/crs/crs.py:131: FutureWarning: '+init=<authority>:<code>' syntax is deprecated. '<authority>:<code>' is the preferred initialization method. When making the change, be mindful of axis order changes: https://pyproj4.github.io/pyproj/stable/gotchas.html#axis-order-changes-in-proj-6\n",
      "  in_crs_string = _prepare_from_proj_string(in_crs_string)\n",
      "/opt/anaconda3/lib/python3.9/site-packages/pyproj/crs/crs.py:131: FutureWarning: '+init=<authority>:<code>' syntax is deprecated. '<authority>:<code>' is the preferred initialization method. When making the change, be mindful of axis order changes: https://pyproj4.github.io/pyproj/stable/gotchas.html#axis-order-changes-in-proj-6\n",
      "  in_crs_string = _prepare_from_proj_string(in_crs_string)\n"
     ]
    }
   ],
   "source": [
    "proj_1 = Proj(init = 'epsg:2097')\n",
    "proj_2 = Proj(init = 'epsg:4326')"
   ]
  },
  {
   "cell_type": "code",
   "execution_count": 5,
   "id": "595e6bc7",
   "metadata": {},
   "outputs": [],
   "source": [
    "df = pd.read_csv(\"bar_list.csv\",encoding = 'cp949')"
   ]
  },
  {
   "cell_type": "code",
   "execution_count": 6,
   "id": "cf62a5f8",
   "metadata": {},
   "outputs": [
    {
     "data": {
      "text/html": [
       "<div>\n",
       "<style scoped>\n",
       "    .dataframe tbody tr th:only-of-type {\n",
       "        vertical-align: middle;\n",
       "    }\n",
       "\n",
       "    .dataframe tbody tr th {\n",
       "        vertical-align: top;\n",
       "    }\n",
       "\n",
       "    .dataframe thead th {\n",
       "        text-align: right;\n",
       "    }\n",
       "</style>\n",
       "<table border=\"1\" class=\"dataframe\">\n",
       "  <thead>\n",
       "    <tr style=\"text-align: right;\">\n",
       "      <th></th>\n",
       "      <th>지번주소</th>\n",
       "      <th>도로명주소</th>\n",
       "      <th>사업장명</th>\n",
       "      <th>좌표정보(X)</th>\n",
       "      <th>좌표정보(Y)</th>\n",
       "    </tr>\n",
       "  </thead>\n",
       "  <tbody>\n",
       "    <tr>\n",
       "      <th>0</th>\n",
       "      <td>서울특별시 강남구 신사동 525-13 지상1층101102호</td>\n",
       "      <td>서울특별시 강남구 압구정로4길 13-13 (신사동지상1층101102호)</td>\n",
       "      <td>르포트 13</td>\n",
       "      <td>201799.8716</td>\n",
       "      <td>446679.2061</td>\n",
       "    </tr>\n",
       "    <tr>\n",
       "      <th>1</th>\n",
       "      <td>서울특별시 강남구 삼성동 150-21번지 지상1층</td>\n",
       "      <td>서울특별시 강남구 삼성로104길 7 (삼성동지상1층)</td>\n",
       "      <td>한탕</td>\n",
       "      <td>204811.7927</td>\n",
       "      <td>445410.9511</td>\n",
       "    </tr>\n",
       "    <tr>\n",
       "      <th>2</th>\n",
       "      <td>서울특별시 강남구 논현동 242-21 삼아프라자</td>\n",
       "      <td>서울특별시 강남구 선릉로129길 3-6 삼아프라자 1층 101호 (논현동)</td>\n",
       "      <td>묵호일식</td>\n",
       "      <td>203552.5167</td>\n",
       "      <td>445969.4993</td>\n",
       "    </tr>\n",
       "    <tr>\n",
       "      <th>3</th>\n",
       "      <td>서울특별시 강남구 청담동 95-15번지 지상2층</td>\n",
       "      <td>서울특별시 강남구 압구정로72길 22 지상2층 (청담동)</td>\n",
       "      <td>볼트스테이크하우스(Vault steak house)</td>\n",
       "      <td>203905.7515</td>\n",
       "      <td>446976.7192</td>\n",
       "    </tr>\n",
       "    <tr>\n",
       "      <th>4</th>\n",
       "      <td>서울특별시 강남구 역삼동 817-21 지상1층</td>\n",
       "      <td>서울특별시 강남구 강남대로96길 17 (역삼동지상1층)</td>\n",
       "      <td>용용선생 강남역점</td>\n",
       "      <td>202441.5187</td>\n",
       "      <td>444214.6520</td>\n",
       "    </tr>\n",
       "  </tbody>\n",
       "</table>\n",
       "</div>"
      ],
      "text/plain": [
       "                                지번주소  \\\n",
       "0  서울특별시 강남구 신사동 525-13 지상1층101102호    \n",
       "1       서울특별시 강남구 삼성동 150-21번지 지상1층    \n",
       "2        서울특별시 강남구 논현동 242-21 삼아프라자    \n",
       "3        서울특별시 강남구 청담동 95-15번지 지상2층    \n",
       "4         서울특별시 강남구 역삼동 817-21 지상1층    \n",
       "\n",
       "                                       도로명주소                          사업장명  \\\n",
       "0    서울특별시 강남구 압구정로4길 13-13 (신사동지상1층101102호)                        르포트 13   \n",
       "1              서울특별시 강남구 삼성로104길 7 (삼성동지상1층)                            한탕   \n",
       "2  서울특별시 강남구 선릉로129길 3-6 삼아프라자 1층 101호 (논현동)                          묵호일식   \n",
       "3            서울특별시 강남구 압구정로72길 22 지상2층 (청담동)  볼트스테이크하우스(Vault steak house)   \n",
       "4             서울특별시 강남구 강남대로96길 17 (역삼동지상1층)                     용용선생 강남역점   \n",
       "\n",
       "       좌표정보(X)      좌표정보(Y)  \n",
       "0  201799.8716  446679.2061  \n",
       "1  204811.7927  445410.9511  \n",
       "2  203552.5167  445969.4993  \n",
       "3  203905.7515  446976.7192  \n",
       "4  202441.5187  444214.6520  "
      ]
     },
     "execution_count": 6,
     "metadata": {},
     "output_type": "execute_result"
    }
   ],
   "source": [
    "df.head()"
   ]
  },
  {
   "cell_type": "code",
   "execution_count": 7,
   "id": "ce6d859d",
   "metadata": {},
   "outputs": [],
   "source": [
    "x_list = df['좌표정보(X)']\n",
    "y_list = df['좌표정보(Y)']"
   ]
  },
  {
   "cell_type": "code",
   "execution_count": 9,
   "id": "9444aa29",
   "metadata": {},
   "outputs": [
    {
     "data": {
      "text/plain": [
       "0    446679.2061\n",
       "1    445410.9511\n",
       "2    445969.4993\n",
       "3    446976.7192\n",
       "4    444214.6520\n",
       "Name: 좌표정보(Y), dtype: float64"
      ]
     },
     "execution_count": 9,
     "metadata": {},
     "output_type": "execute_result"
    }
   ],
   "source": [
    "x_list.head()"
   ]
  },
  {
   "cell_type": "code",
   "execution_count": 10,
   "id": "388c659d",
   "metadata": {},
   "outputs": [
    {
     "data": {
      "text/plain": [
       "0    446679.2061\n",
       "1    445410.9511\n",
       "2    445969.4993\n",
       "3    446976.7192\n",
       "4    444214.6520\n",
       "Name: 좌표정보(Y), dtype: float64"
      ]
     },
     "execution_count": 10,
     "metadata": {},
     "output_type": "execute_result"
    }
   ],
   "source": [
    "y_list.head()"
   ]
  },
  {
   "cell_type": "code",
   "execution_count": 12,
   "id": "5ff32c91",
   "metadata": {},
   "outputs": [
    {
     "name": "stderr",
     "output_type": "stream",
     "text": [
      "/var/folders/d2/20dks6yj46b_077x0h5fmr740000gn/T/ipykernel_5548/3056854108.py:2: DeprecationWarning: This function is deprecated. See: https://pyproj4.github.io/pyproj/stable/gotchas.html#upgrading-to-pyproj-2-from-pyproj-1\n",
      "  converted = transform(proj_1,proj_2,x_list,y_list)\n"
     ]
    },
    {
     "data": {
      "text/plain": [
       "pandas.core.series.Series"
      ]
     },
     "execution_count": 12,
     "metadata": {},
     "output_type": "execute_result"
    }
   ],
   "source": [
    "#중부원점좌표계를 위도,경도로 변환\n",
    "converted = transform(proj_1,proj_2,x_list,y_list)"
   ]
  },
  {
   "cell_type": "code",
   "execution_count": 17,
   "id": "92a3f174",
   "metadata": {},
   "outputs": [],
   "source": [
    "df['좌표정보(X)'] = converted[1]\n",
    "df['좌표정보(Y)'] = converted[0]"
   ]
  },
  {
   "cell_type": "code",
   "execution_count": 18,
   "id": "5c439203",
   "metadata": {},
   "outputs": [
    {
     "data": {
      "text/html": [
       "<div>\n",
       "<style scoped>\n",
       "    .dataframe tbody tr th:only-of-type {\n",
       "        vertical-align: middle;\n",
       "    }\n",
       "\n",
       "    .dataframe tbody tr th {\n",
       "        vertical-align: top;\n",
       "    }\n",
       "\n",
       "    .dataframe thead th {\n",
       "        text-align: right;\n",
       "    }\n",
       "</style>\n",
       "<table border=\"1\" class=\"dataframe\">\n",
       "  <thead>\n",
       "    <tr style=\"text-align: right;\">\n",
       "      <th></th>\n",
       "      <th>지번주소</th>\n",
       "      <th>도로명주소</th>\n",
       "      <th>사업장명</th>\n",
       "      <th>좌표정보(X)</th>\n",
       "      <th>좌표정보(Y)</th>\n",
       "    </tr>\n",
       "  </thead>\n",
       "  <tbody>\n",
       "    <tr>\n",
       "      <th>0</th>\n",
       "      <td>서울특별시 강남구 신사동 525-13 지상1층101102호</td>\n",
       "      <td>서울특별시 강남구 압구정로4길 13-13 (신사동지상1층101102호)</td>\n",
       "      <td>르포트 13</td>\n",
       "      <td>37.522346</td>\n",
       "      <td>127.018259</td>\n",
       "    </tr>\n",
       "    <tr>\n",
       "      <th>1</th>\n",
       "      <td>서울특별시 강남구 삼성동 150-21번지 지상1층</td>\n",
       "      <td>서울특별시 강남구 삼성로104길 7 (삼성동지상1층)</td>\n",
       "      <td>한탕</td>\n",
       "      <td>37.510909</td>\n",
       "      <td>127.052322</td>\n",
       "    </tr>\n",
       "    <tr>\n",
       "      <th>2</th>\n",
       "      <td>서울특별시 강남구 논현동 242-21 삼아프라자</td>\n",
       "      <td>서울특별시 강남구 선릉로129길 3-6 삼아프라자 1층 101호 (논현동)</td>\n",
       "      <td>묵호일식</td>\n",
       "      <td>37.515947</td>\n",
       "      <td>127.038082</td>\n",
       "    </tr>\n",
       "    <tr>\n",
       "      <th>3</th>\n",
       "      <td>서울특별시 강남구 청담동 95-15번지 지상2층</td>\n",
       "      <td>서울특별시 강남구 압구정로72길 22 지상2층 (청담동)</td>\n",
       "      <td>볼트스테이크하우스(Vault steak house)</td>\n",
       "      <td>37.525020</td>\n",
       "      <td>127.042083</td>\n",
       "    </tr>\n",
       "    <tr>\n",
       "      <th>4</th>\n",
       "      <td>서울특별시 강남구 역삼동 817-21 지상1층</td>\n",
       "      <td>서울특별시 강남구 강남대로96길 17 (역삼동지상1층)</td>\n",
       "      <td>용용선생 강남역점</td>\n",
       "      <td>37.500139</td>\n",
       "      <td>127.025509</td>\n",
       "    </tr>\n",
       "  </tbody>\n",
       "</table>\n",
       "</div>"
      ],
      "text/plain": [
       "                                지번주소  \\\n",
       "0  서울특별시 강남구 신사동 525-13 지상1층101102호    \n",
       "1       서울특별시 강남구 삼성동 150-21번지 지상1층    \n",
       "2        서울특별시 강남구 논현동 242-21 삼아프라자    \n",
       "3        서울특별시 강남구 청담동 95-15번지 지상2층    \n",
       "4         서울특별시 강남구 역삼동 817-21 지상1층    \n",
       "\n",
       "                                       도로명주소                          사업장명  \\\n",
       "0    서울특별시 강남구 압구정로4길 13-13 (신사동지상1층101102호)                        르포트 13   \n",
       "1              서울특별시 강남구 삼성로104길 7 (삼성동지상1층)                            한탕   \n",
       "2  서울특별시 강남구 선릉로129길 3-6 삼아프라자 1층 101호 (논현동)                          묵호일식   \n",
       "3            서울특별시 강남구 압구정로72길 22 지상2층 (청담동)  볼트스테이크하우스(Vault steak house)   \n",
       "4             서울특별시 강남구 강남대로96길 17 (역삼동지상1층)                     용용선생 강남역점   \n",
       "\n",
       "     좌표정보(X)     좌표정보(Y)  \n",
       "0  37.522346  127.018259  \n",
       "1  37.510909  127.052322  \n",
       "2  37.515947  127.038082  \n",
       "3  37.525020  127.042083  \n",
       "4  37.500139  127.025509  "
      ]
     },
     "execution_count": 18,
     "metadata": {},
     "output_type": "execute_result"
    }
   ],
   "source": [
    "df.head()"
   ]
  },
  {
   "cell_type": "code",
   "execution_count": 19,
   "id": "16b2369d",
   "metadata": {},
   "outputs": [],
   "source": [
    "df.rename(columns = {\"좌표정보(X)\":\"위도\",\"좌표정보(Y)\":\"경도\"},inplace = True)"
   ]
  },
  {
   "cell_type": "code",
   "execution_count": 20,
   "id": "ec552709",
   "metadata": {},
   "outputs": [
    {
     "data": {
      "text/html": [
       "<div>\n",
       "<style scoped>\n",
       "    .dataframe tbody tr th:only-of-type {\n",
       "        vertical-align: middle;\n",
       "    }\n",
       "\n",
       "    .dataframe tbody tr th {\n",
       "        vertical-align: top;\n",
       "    }\n",
       "\n",
       "    .dataframe thead th {\n",
       "        text-align: right;\n",
       "    }\n",
       "</style>\n",
       "<table border=\"1\" class=\"dataframe\">\n",
       "  <thead>\n",
       "    <tr style=\"text-align: right;\">\n",
       "      <th></th>\n",
       "      <th>지번주소</th>\n",
       "      <th>도로명주소</th>\n",
       "      <th>사업장명</th>\n",
       "      <th>위도</th>\n",
       "      <th>경도</th>\n",
       "    </tr>\n",
       "  </thead>\n",
       "  <tbody>\n",
       "    <tr>\n",
       "      <th>0</th>\n",
       "      <td>서울특별시 강남구 신사동 525-13 지상1층101102호</td>\n",
       "      <td>서울특별시 강남구 압구정로4길 13-13 (신사동지상1층101102호)</td>\n",
       "      <td>르포트 13</td>\n",
       "      <td>37.522346</td>\n",
       "      <td>127.018259</td>\n",
       "    </tr>\n",
       "    <tr>\n",
       "      <th>1</th>\n",
       "      <td>서울특별시 강남구 삼성동 150-21번지 지상1층</td>\n",
       "      <td>서울특별시 강남구 삼성로104길 7 (삼성동지상1층)</td>\n",
       "      <td>한탕</td>\n",
       "      <td>37.510909</td>\n",
       "      <td>127.052322</td>\n",
       "    </tr>\n",
       "    <tr>\n",
       "      <th>2</th>\n",
       "      <td>서울특별시 강남구 논현동 242-21 삼아프라자</td>\n",
       "      <td>서울특별시 강남구 선릉로129길 3-6 삼아프라자 1층 101호 (논현동)</td>\n",
       "      <td>묵호일식</td>\n",
       "      <td>37.515947</td>\n",
       "      <td>127.038082</td>\n",
       "    </tr>\n",
       "    <tr>\n",
       "      <th>3</th>\n",
       "      <td>서울특별시 강남구 청담동 95-15번지 지상2층</td>\n",
       "      <td>서울특별시 강남구 압구정로72길 22 지상2층 (청담동)</td>\n",
       "      <td>볼트스테이크하우스(Vault steak house)</td>\n",
       "      <td>37.525020</td>\n",
       "      <td>127.042083</td>\n",
       "    </tr>\n",
       "    <tr>\n",
       "      <th>4</th>\n",
       "      <td>서울특별시 강남구 역삼동 817-21 지상1층</td>\n",
       "      <td>서울특별시 강남구 강남대로96길 17 (역삼동지상1층)</td>\n",
       "      <td>용용선생 강남역점</td>\n",
       "      <td>37.500139</td>\n",
       "      <td>127.025509</td>\n",
       "    </tr>\n",
       "  </tbody>\n",
       "</table>\n",
       "</div>"
      ],
      "text/plain": [
       "                                지번주소  \\\n",
       "0  서울특별시 강남구 신사동 525-13 지상1층101102호    \n",
       "1       서울특별시 강남구 삼성동 150-21번지 지상1층    \n",
       "2        서울특별시 강남구 논현동 242-21 삼아프라자    \n",
       "3        서울특별시 강남구 청담동 95-15번지 지상2층    \n",
       "4         서울특별시 강남구 역삼동 817-21 지상1층    \n",
       "\n",
       "                                       도로명주소                          사업장명  \\\n",
       "0    서울특별시 강남구 압구정로4길 13-13 (신사동지상1층101102호)                        르포트 13   \n",
       "1              서울특별시 강남구 삼성로104길 7 (삼성동지상1층)                            한탕   \n",
       "2  서울특별시 강남구 선릉로129길 3-6 삼아프라자 1층 101호 (논현동)                          묵호일식   \n",
       "3            서울특별시 강남구 압구정로72길 22 지상2층 (청담동)  볼트스테이크하우스(Vault steak house)   \n",
       "4             서울특별시 강남구 강남대로96길 17 (역삼동지상1층)                     용용선생 강남역점   \n",
       "\n",
       "          위도          경도  \n",
       "0  37.522346  127.018259  \n",
       "1  37.510909  127.052322  \n",
       "2  37.515947  127.038082  \n",
       "3  37.525020  127.042083  \n",
       "4  37.500139  127.025509  "
      ]
     },
     "execution_count": 20,
     "metadata": {},
     "output_type": "execute_result"
    }
   ],
   "source": [
    "df.head()"
   ]
  },
  {
   "cell_type": "code",
   "execution_count": null,
   "id": "b311be5f",
   "metadata": {},
   "outputs": [],
   "source": []
  }
 ],
 "metadata": {
  "kernelspec": {
   "display_name": "Python 3 (ipykernel)",
   "language": "python",
   "name": "python3"
  },
  "language_info": {
   "codemirror_mode": {
    "name": "ipython",
    "version": 3
   },
   "file_extension": ".py",
   "mimetype": "text/x-python",
   "name": "python",
   "nbconvert_exporter": "python",
   "pygments_lexer": "ipython3",
   "version": "3.9.12"
  }
 },
 "nbformat": 4,
 "nbformat_minor": 5
}

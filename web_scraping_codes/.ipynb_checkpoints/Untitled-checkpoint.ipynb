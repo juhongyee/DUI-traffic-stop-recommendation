{
 "cells": [
  {
   "cell_type": "code",
   "execution_count": 11,
   "id": "8839f874",
   "metadata": {},
   "outputs": [],
   "source": [
    "import pandas as pd\n",
    "import bisect\n",
    "import numpy as np"
   ]
  },
  {
   "cell_type": "code",
   "execution_count": 5,
   "id": "4712521c",
   "metadata": {},
   "outputs": [],
   "source": [
    "df = pd.read_csv('강남구 일반 음식점.csv',encoding = 'cp949')"
   ]
  },
  {
   "cell_type": "code",
   "execution_count": 6,
   "id": "2f85abff",
   "metadata": {
    "scrolled": true
   },
   "outputs": [
    {
     "data": {
      "text/html": [
       "<div>\n",
       "<style scoped>\n",
       "    .dataframe tbody tr th:only-of-type {\n",
       "        vertical-align: middle;\n",
       "    }\n",
       "\n",
       "    .dataframe tbody tr th {\n",
       "        vertical-align: top;\n",
       "    }\n",
       "\n",
       "    .dataframe thead th {\n",
       "        text-align: right;\n",
       "    }\n",
       "</style>\n",
       "<table border=\"1\" class=\"dataframe\">\n",
       "  <thead>\n",
       "    <tr style=\"text-align: right;\">\n",
       "      <th></th>\n",
       "      <th>Unnamed: 0</th>\n",
       "      <th>영업상태코드</th>\n",
       "      <th>영업상태명</th>\n",
       "      <th>상세영업상태코드</th>\n",
       "      <th>상세영업상태명</th>\n",
       "      <th>지번주소</th>\n",
       "      <th>도로명주소</th>\n",
       "      <th>도로명우편번호</th>\n",
       "      <th>사업장명</th>\n",
       "      <th>데이터갱신구분</th>\n",
       "      <th>데이터갱신일자</th>\n",
       "      <th>업태구분명</th>\n",
       "      <th>좌표정보(X)</th>\n",
       "      <th>좌표정보(Y)</th>\n",
       "    </tr>\n",
       "  </thead>\n",
       "  <tbody>\n",
       "    <tr>\n",
       "      <th>0</th>\n",
       "      <td>288039</td>\n",
       "      <td>1</td>\n",
       "      <td>영업/정상</td>\n",
       "      <td>1</td>\n",
       "      <td>영업</td>\n",
       "      <td>서울특별시 강남구 청담동 3-17번지 지하2층</td>\n",
       "      <td>서울특별시 강남구 선릉로148길 33 (청담동지하2층)</td>\n",
       "      <td>NaN</td>\n",
       "      <td>2</td>\n",
       "      <td>I</td>\n",
       "      <td>2018.8.31 23:59</td>\n",
       "      <td>경양식</td>\n",
       "      <td>203666.9228</td>\n",
       "      <td>446744.6582</td>\n",
       "    </tr>\n",
       "    <tr>\n",
       "      <th>1</th>\n",
       "      <td>289682</td>\n",
       "      <td>1</td>\n",
       "      <td>영업/정상</td>\n",
       "      <td>1</td>\n",
       "      <td>영업</td>\n",
       "      <td>서울특별시 강남구 청담동 90-3번지 지하1층</td>\n",
       "      <td>서울특별시 강남구 도산대로61길 27 (청담동지하1층)</td>\n",
       "      <td>6016.0</td>\n",
       "      <td>2</td>\n",
       "      <td>I</td>\n",
       "      <td>2018.8.31 23:59</td>\n",
       "      <td>경양식</td>\n",
       "      <td>203743.2057</td>\n",
       "      <td>447049.6231</td>\n",
       "    </tr>\n",
       "    <tr>\n",
       "      <th>2</th>\n",
       "      <td>288487</td>\n",
       "      <td>1</td>\n",
       "      <td>영업/정상</td>\n",
       "      <td>1</td>\n",
       "      <td>영업</td>\n",
       "      <td>서울특별시 강남구 역삼동 721-3번지 지하1층</td>\n",
       "      <td>서울특별시 강남구 테헤란로38길 27 (역삼동지하1층)</td>\n",
       "      <td>6222.0</td>\n",
       "      <td>10</td>\n",
       "      <td>I</td>\n",
       "      <td>2018.8.31 23:59</td>\n",
       "      <td>한식</td>\n",
       "      <td>203712.4418</td>\n",
       "      <td>444284.7633</td>\n",
       "    </tr>\n",
       "    <tr>\n",
       "      <th>3</th>\n",
       "      <td>286058</td>\n",
       "      <td>1</td>\n",
       "      <td>영업/정상</td>\n",
       "      <td>1</td>\n",
       "      <td>영업</td>\n",
       "      <td>서울특별시 강남구 신사동 516-10번지</td>\n",
       "      <td>서울특별시 강남구 강남대로156길 40 (신사동)</td>\n",
       "      <td>6035.0</td>\n",
       "      <td>25</td>\n",
       "      <td>I</td>\n",
       "      <td>2018.8.31 23:59</td>\n",
       "      <td>분식</td>\n",
       "      <td>201904.9095</td>\n",
       "      <td>446296.1644</td>\n",
       "    </tr>\n",
       "    <tr>\n",
       "      <th>4</th>\n",
       "      <td>285870</td>\n",
       "      <td>1</td>\n",
       "      <td>영업/정상</td>\n",
       "      <td>1</td>\n",
       "      <td>영업</td>\n",
       "      <td>서울특별시 강남구 역삼동 687-0 지하1층</td>\n",
       "      <td>서울특별시 강남구 언주로108길 8 (역삼동지하1층)</td>\n",
       "      <td>6144.0</td>\n",
       "      <td>104</td>\n",
       "      <td>U</td>\n",
       "      <td>2022.3.23 2:40</td>\n",
       "      <td>경양식</td>\n",
       "      <td>203494.3374</td>\n",
       "      <td>445092.8330</td>\n",
       "    </tr>\n",
       "  </tbody>\n",
       "</table>\n",
       "</div>"
      ],
      "text/plain": [
       "   Unnamed: 0  영업상태코드  영업상태명  상세영업상태코드 상세영업상태명                         지번주소  \\\n",
       "0      288039       1  영업/정상         1      영업   서울특별시 강남구 청담동 3-17번지 지하2층    \n",
       "1      289682       1  영업/정상         1      영업   서울특별시 강남구 청담동 90-3번지 지하1층    \n",
       "2      288487       1  영업/정상         1      영업  서울특별시 강남구 역삼동 721-3번지 지하1층    \n",
       "3      286058       1  영업/정상         1      영업      서울특별시 강남구 신사동 516-10번지    \n",
       "4      285870       1  영업/정상         1      영업    서울특별시 강남구 역삼동 687-0 지하1층    \n",
       "\n",
       "                            도로명주소  도로명우편번호 사업장명 데이터갱신구분          데이터갱신일자  \\\n",
       "0  서울특별시 강남구 선릉로148길 33 (청담동지하2층)      NaN    2       I  2018.8.31 23:59   \n",
       "1  서울특별시 강남구 도산대로61길 27 (청담동지하1층)   6016.0    2       I  2018.8.31 23:59   \n",
       "2  서울특별시 강남구 테헤란로38길 27 (역삼동지하1층)   6222.0   10       I  2018.8.31 23:59   \n",
       "3     서울특별시 강남구 강남대로156길 40 (신사동)   6035.0   25       I  2018.8.31 23:59   \n",
       "4   서울특별시 강남구 언주로108길 8 (역삼동지하1층)   6144.0  104       U   2022.3.23 2:40   \n",
       "\n",
       "  업태구분명      좌표정보(X)      좌표정보(Y)  \n",
       "0   경양식  203666.9228  446744.6582  \n",
       "1   경양식  203743.2057  447049.6231  \n",
       "2    한식  203712.4418  444284.7633  \n",
       "3    분식  201904.9095  446296.1644  \n",
       "4   경양식  203494.3374  445092.8330  "
      ]
     },
     "execution_count": 6,
     "metadata": {},
     "output_type": "execute_result"
    }
   ],
   "source": [
    "df.head()"
   ]
  },
  {
   "cell_type": "code",
   "execution_count": 25,
   "id": "cec4905d",
   "metadata": {},
   "outputs": [],
   "source": [
    "df = df[['지번주소','도로명주소','사업장명','좌표정보(X)','좌표정보(Y)']]"
   ]
  },
  {
   "cell_type": "code",
   "execution_count": 10,
   "id": "547b6730",
   "metadata": {},
   "outputs": [
    {
     "data": {
      "text/html": [
       "<div>\n",
       "<style scoped>\n",
       "    .dataframe tbody tr th:only-of-type {\n",
       "        vertical-align: middle;\n",
       "    }\n",
       "\n",
       "    .dataframe tbody tr th {\n",
       "        vertical-align: top;\n",
       "    }\n",
       "\n",
       "    .dataframe thead th {\n",
       "        text-align: right;\n",
       "    }\n",
       "</style>\n",
       "<table border=\"1\" class=\"dataframe\">\n",
       "  <thead>\n",
       "    <tr style=\"text-align: right;\">\n",
       "      <th></th>\n",
       "      <th>지번주소</th>\n",
       "      <th>도로명주소</th>\n",
       "      <th>사업장명</th>\n",
       "      <th>좌표정보(X)</th>\n",
       "      <th>좌표정보(Y)</th>\n",
       "    </tr>\n",
       "  </thead>\n",
       "  <tbody>\n",
       "    <tr>\n",
       "      <th>0</th>\n",
       "      <td>서울특별시 강남구 청담동 3-17번지 지하2층</td>\n",
       "      <td>서울특별시 강남구 선릉로148길 33 (청담동지하2층)</td>\n",
       "      <td>2</td>\n",
       "      <td>203666.9228</td>\n",
       "      <td>446744.6582</td>\n",
       "    </tr>\n",
       "    <tr>\n",
       "      <th>1</th>\n",
       "      <td>서울특별시 강남구 청담동 90-3번지 지하1층</td>\n",
       "      <td>서울특별시 강남구 도산대로61길 27 (청담동지하1층)</td>\n",
       "      <td>2</td>\n",
       "      <td>203743.2057</td>\n",
       "      <td>447049.6231</td>\n",
       "    </tr>\n",
       "    <tr>\n",
       "      <th>2</th>\n",
       "      <td>서울특별시 강남구 역삼동 721-3번지 지하1층</td>\n",
       "      <td>서울특별시 강남구 테헤란로38길 27 (역삼동지하1층)</td>\n",
       "      <td>10</td>\n",
       "      <td>203712.4418</td>\n",
       "      <td>444284.7633</td>\n",
       "    </tr>\n",
       "    <tr>\n",
       "      <th>3</th>\n",
       "      <td>서울특별시 강남구 신사동 516-10번지</td>\n",
       "      <td>서울특별시 강남구 강남대로156길 40 (신사동)</td>\n",
       "      <td>25</td>\n",
       "      <td>201904.9095</td>\n",
       "      <td>446296.1644</td>\n",
       "    </tr>\n",
       "    <tr>\n",
       "      <th>4</th>\n",
       "      <td>서울특별시 강남구 역삼동 687-0 지하1층</td>\n",
       "      <td>서울특별시 강남구 언주로108길 8 (역삼동지하1층)</td>\n",
       "      <td>104</td>\n",
       "      <td>203494.3374</td>\n",
       "      <td>445092.8330</td>\n",
       "    </tr>\n",
       "  </tbody>\n",
       "</table>\n",
       "</div>"
      ],
      "text/plain": [
       "                          지번주소                           도로명주소 사업장명  \\\n",
       "0   서울특별시 강남구 청담동 3-17번지 지하2층   서울특별시 강남구 선릉로148길 33 (청담동지하2층)    2   \n",
       "1   서울특별시 강남구 청담동 90-3번지 지하1층   서울특별시 강남구 도산대로61길 27 (청담동지하1층)    2   \n",
       "2  서울특별시 강남구 역삼동 721-3번지 지하1층   서울특별시 강남구 테헤란로38길 27 (역삼동지하1층)   10   \n",
       "3      서울특별시 강남구 신사동 516-10번지      서울특별시 강남구 강남대로156길 40 (신사동)   25   \n",
       "4    서울특별시 강남구 역삼동 687-0 지하1층    서울특별시 강남구 언주로108길 8 (역삼동지하1층)  104   \n",
       "\n",
       "       좌표정보(X)      좌표정보(Y)  \n",
       "0  203666.9228  446744.6582  \n",
       "1  203743.2057  447049.6231  \n",
       "2  203712.4418  444284.7633  \n",
       "3  201904.9095  446296.1644  \n",
       "4  203494.3374  445092.8330  "
      ]
     },
     "execution_count": 10,
     "metadata": {},
     "output_type": "execute_result"
    }
   ],
   "source": [
    "df.head()"
   ]
  },
  {
   "cell_type": "code",
   "execution_count": 22,
   "id": "99de3a47",
   "metadata": {},
   "outputs": [],
   "source": [
    "df_s = df[['사업장명']]\n",
    "df_s = df_s.to_numpy()\n",
    "df_s = df_s.ravel()"
   ]
  },
  {
   "cell_type": "code",
   "execution_count": 23,
   "id": "90c8c1f9",
   "metadata": {},
   "outputs": [
    {
     "data": {
      "text/plain": [
       "5318"
      ]
     },
     "execution_count": 23,
     "metadata": {},
     "output_type": "execute_result"
    }
   ],
   "source": [
    "df_s.searchsorted('사이')"
   ]
  },
  {
   "cell_type": "code",
   "execution_count": 30,
   "id": "b24e3db0",
   "metadata": {},
   "outputs": [
    {
     "data": {
      "text/plain": [
       "'서울특별시 강남구 신사동 519-1번지 '"
      ]
     },
     "execution_count": 30,
     "metadata": {},
     "output_type": "execute_result"
    }
   ],
   "source": [
    "df['지번주소'][df_s.searchsorted('사이')]"
   ]
  },
  {
   "cell_type": "code",
   "execution_count": 38,
   "id": "c88fed60",
   "metadata": {},
   "outputs": [],
   "source": [
    "scraping = pd.read_csv('술집_scraping.csv',encoding = 'cp949')"
   ]
  },
  {
   "cell_type": "code",
   "execution_count": 39,
   "id": "5828192a",
   "metadata": {},
   "outputs": [
    {
     "data": {
      "text/html": [
       "<div>\n",
       "<style scoped>\n",
       "    .dataframe tbody tr th:only-of-type {\n",
       "        vertical-align: middle;\n",
       "    }\n",
       "\n",
       "    .dataframe tbody tr th {\n",
       "        vertical-align: top;\n",
       "    }\n",
       "\n",
       "    .dataframe thead th {\n",
       "        text-align: right;\n",
       "    }\n",
       "</style>\n",
       "<table border=\"1\" class=\"dataframe\">\n",
       "  <thead>\n",
       "    <tr style=\"text-align: right;\">\n",
       "      <th></th>\n",
       "      <th>르챔버</th>\n",
       "    </tr>\n",
       "  </thead>\n",
       "  <tbody>\n",
       "    <tr>\n",
       "      <th>0</th>\n",
       "      <td>한추</td>\n",
       "    </tr>\n",
       "    <tr>\n",
       "      <th>1</th>\n",
       "      <td>묵전</td>\n",
       "    </tr>\n",
       "    <tr>\n",
       "      <th>2</th>\n",
       "      <td>볼트스테이크하우스</td>\n",
       "    </tr>\n",
       "    <tr>\n",
       "      <th>3</th>\n",
       "      <td>용용선생 강남역점</td>\n",
       "    </tr>\n",
       "    <tr>\n",
       "      <th>4</th>\n",
       "      <td>마코토 청담점</td>\n",
       "    </tr>\n",
       "  </tbody>\n",
       "</table>\n",
       "</div>"
      ],
      "text/plain": [
       "         르챔버\n",
       "0         한추\n",
       "1         묵전\n",
       "2  볼트스테이크하우스\n",
       "3  용용선생 강남역점\n",
       "4    마코토 청담점"
      ]
     },
     "execution_count": 39,
     "metadata": {},
     "output_type": "execute_result"
    }
   ],
   "source": [
    "scraping.head()"
   ]
  },
  {
   "cell_type": "code",
   "execution_count": null,
   "id": "5204e2e3",
   "metadata": {},
   "outputs": [],
   "source": []
  }
 ],
 "metadata": {
  "kernelspec": {
   "display_name": "Python 3 (ipykernel)",
   "language": "python",
   "name": "python3"
  },
  "language_info": {
   "codemirror_mode": {
    "name": "ipython",
    "version": 3
   },
   "file_extension": ".py",
   "mimetype": "text/x-python",
   "name": "python",
   "nbconvert_exporter": "python",
   "pygments_lexer": "ipython3",
   "version": "3.9.12"
  }
 },
 "nbformat": 4,
 "nbformat_minor": 5
}

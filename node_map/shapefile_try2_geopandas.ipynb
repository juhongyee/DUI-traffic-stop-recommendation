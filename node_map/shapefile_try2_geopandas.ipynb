{
 "cells": [
  {
   "cell_type": "code",
   "execution_count": 3,
   "id": "d58f9499",
   "metadata": {},
   "outputs": [],
   "source": [
    "import gc\n",
    "import glob\n",
    "import geopandas as gpd"
   ]
  },
  {
   "cell_type": "code",
   "execution_count": 5,
   "id": "f63291c0",
   "metadata": {},
   "outputs": [],
   "source": [
    "file_path_link = '/Users/juhong/Library/CloudStorage/OneDrive-아주대학교/대학교/3학년 2학기/캡스톤/직접 연계 통계 모음/모음/교통량모음/[2022-11-15]NODELINKDATA/MOCT_LINK.shp'\n",
    "file_path_node = '/Users/juhong/Library/CloudStorage/OneDrive-아주대학교/대학교/3학년 2학기/캡스톤/직접 연계 통계 모음/모음/교통량모음/[2021-12-09]NODELINKDATA/MOCT_NODE.shp'"
   ]
  },
  {
   "cell_type": "code",
   "execution_count": 6,
   "id": "f5345a34",
   "metadata": {},
   "outputs": [],
   "source": [
    "#link_data\n",
    "gdf_link = gpd.GeoDataFrame.from_file(file_path_link,encoding = 'cp949')\n",
    "\n",
    "#node_data\n",
    "gdf_node = gpd.GeoDataFrame.from_file(file_path_node,encoding = 'cp949')"
   ]
  },
  {
   "cell_type": "code",
   "execution_count": 7,
   "id": "23c36958",
   "metadata": {},
   "outputs": [
    {
     "name": "stderr",
     "output_type": "stream",
     "text": [
      "/opt/anaconda3/lib/python3.9/site-packages/pyproj/crs/crs.py:131: FutureWarning: '+init=<authority>:<code>' syntax is deprecated. '<authority>:<code>' is the preferred initialization method. When making the change, be mindful of axis order changes: https://pyproj4.github.io/pyproj/stable/gotchas.html#axis-order-changes-in-proj-6\n",
      "  in_crs_string = _prepare_from_proj_string(in_crs_string)\n",
      "/opt/anaconda3/lib/python3.9/site-packages/pyproj/crs/crs.py:131: FutureWarning: '+init=<authority>:<code>' syntax is deprecated. '<authority>:<code>' is the preferred initialization method. When making the change, be mindful of axis order changes: https://pyproj4.github.io/pyproj/stable/gotchas.html#axis-order-changes-in-proj-6\n",
      "  in_crs_string = _prepare_from_proj_string(in_crs_string)\n"
     ]
    }
   ],
   "source": [
    "#경도 위도로 변환\n",
    "gdf_link = gdf_link.to_crs({\"init\":\"epsg:4326\"})\n",
    "gdf_node = gdf_node.to_crs({\"init\":\"epsg:4326\"})"
   ]
  },
  {
   "cell_type": "code",
   "execution_count": 8,
   "id": "b4c007a0",
   "metadata": {},
   "outputs": [
    {
     "name": "stdout",
     "output_type": "stream",
     "text": [
      "<class 'geopandas.geodataframe.GeoDataFrame'>\n",
      "RangeIndex: 540835 entries, 0 to 540834\n",
      "Data columns (total 18 columns):\n",
      " #   Column      Non-Null Count   Dtype   \n",
      "---  ------      --------------   -----   \n",
      " 0   LINK_ID     540835 non-null  object  \n",
      " 1   F_NODE      540835 non-null  object  \n",
      " 2   T_NODE      540835 non-null  object  \n",
      " 3   LANES       540835 non-null  int64   \n",
      " 4   ROAD_RANK   540835 non-null  object  \n",
      " 5   ROAD_TYPE   540835 non-null  object  \n",
      " 6   ROAD_NO     540835 non-null  object  \n",
      " 7   ROAD_NAME   540835 non-null  object  \n",
      " 8   ROAD_USE    540835 non-null  object  \n",
      " 9   MULTI_LINK  540835 non-null  object  \n",
      " 10  CONNECT     540835 non-null  object  \n",
      " 11  MAX_SPD     540835 non-null  int64   \n",
      " 12  REST_VEH    540835 non-null  object  \n",
      " 13  REST_W      540835 non-null  int64   \n",
      " 14  REST_H      540835 non-null  int64   \n",
      " 15  LENGTH      540835 non-null  float64 \n",
      " 16  REMARK      26055 non-null   object  \n",
      " 17  geometry    540835 non-null  geometry\n",
      "dtypes: float64(1), geometry(1), int64(4), object(12)\n",
      "memory usage: 74.3+ MB\n"
     ]
    }
   ],
   "source": [
    "#link data의 정보 확인\n",
    "gdf_link.info()"
   ]
  },
  {
   "cell_type": "code",
   "execution_count": 9,
   "id": "0b06a4c7",
   "metadata": {},
   "outputs": [
    {
     "name": "stdout",
     "output_type": "stream",
     "text": [
      "<class 'geopandas.geodataframe.GeoDataFrame'>\n",
      "RangeIndex: 198872 entries, 0 to 198871\n",
      "Data columns (total 6 columns):\n",
      " #   Column     Non-Null Count   Dtype   \n",
      "---  ------     --------------   -----   \n",
      " 0   NODE_ID    198872 non-null  object  \n",
      " 1   NODE_TYPE  198872 non-null  object  \n",
      " 2   NODE_NAME  198870 non-null  object  \n",
      " 3   TURN_P     198872 non-null  object  \n",
      " 4   REMARK     2248 non-null    object  \n",
      " 5   geometry   198872 non-null  geometry\n",
      "dtypes: geometry(1), object(5)\n",
      "memory usage: 9.1+ MB\n"
     ]
    }
   ],
   "source": [
    "#node data의 정보 확인\n",
    "gdf_node.info()"
   ]
  },
  {
   "cell_type": "code",
   "execution_count": 10,
   "id": "ab55316c",
   "metadata": {},
   "outputs": [
    {
     "data": {
      "text/html": [
       "<div>\n",
       "<style scoped>\n",
       "    .dataframe tbody tr th:only-of-type {\n",
       "        vertical-align: middle;\n",
       "    }\n",
       "\n",
       "    .dataframe tbody tr th {\n",
       "        vertical-align: top;\n",
       "    }\n",
       "\n",
       "    .dataframe thead th {\n",
       "        text-align: right;\n",
       "    }\n",
       "</style>\n",
       "<table border=\"1\" class=\"dataframe\">\n",
       "  <thead>\n",
       "    <tr style=\"text-align: right;\">\n",
       "      <th></th>\n",
       "      <th>NODE_ID</th>\n",
       "      <th>NODE_TYPE</th>\n",
       "      <th>NODE_NAME</th>\n",
       "      <th>TURN_P</th>\n",
       "      <th>REMARK</th>\n",
       "      <th>geometry</th>\n",
       "    </tr>\n",
       "  </thead>\n",
       "  <tbody>\n",
       "    <tr>\n",
       "      <th>198867</th>\n",
       "      <td>2450048401</td>\n",
       "      <td>101</td>\n",
       "      <td>-</td>\n",
       "      <td>0</td>\n",
       "      <td>교차로명없음</td>\n",
       "      <td>POINT (127.10458 37.33241)</td>\n",
       "    </tr>\n",
       "    <tr>\n",
       "      <th>198868</th>\n",
       "      <td>2310325101</td>\n",
       "      <td>101</td>\n",
       "      <td>-</td>\n",
       "      <td>0</td>\n",
       "      <td>교차로명없음</td>\n",
       "      <td>POINT (127.30523 37.07241)</td>\n",
       "    </tr>\n",
       "    <tr>\n",
       "      <th>198869</th>\n",
       "      <td>2310325001</td>\n",
       "      <td>101</td>\n",
       "      <td>-</td>\n",
       "      <td>0</td>\n",
       "      <td>교차로명없음</td>\n",
       "      <td>POINT (127.30062 37.06565)</td>\n",
       "    </tr>\n",
       "    <tr>\n",
       "      <th>198870</th>\n",
       "      <td>2290226101</td>\n",
       "      <td>104</td>\n",
       "      <td>산단TG</td>\n",
       "      <td>0</td>\n",
       "      <td>None</td>\n",
       "      <td>POINT (126.78002 37.82514)</td>\n",
       "    </tr>\n",
       "    <tr>\n",
       "      <th>198871</th>\n",
       "      <td>2290226001</td>\n",
       "      <td>104</td>\n",
       "      <td>산단TG</td>\n",
       "      <td>0</td>\n",
       "      <td>None</td>\n",
       "      <td>POINT (126.77972 37.82497)</td>\n",
       "    </tr>\n",
       "  </tbody>\n",
       "</table>\n",
       "</div>"
      ],
      "text/plain": [
       "           NODE_ID NODE_TYPE NODE_NAME TURN_P  REMARK  \\\n",
       "198867  2450048401       101         -      0  교차로명없음   \n",
       "198868  2310325101       101         -      0  교차로명없음   \n",
       "198869  2310325001       101         -      0  교차로명없음   \n",
       "198870  2290226101       104      산단TG      0    None   \n",
       "198871  2290226001       104      산단TG      0    None   \n",
       "\n",
       "                          geometry  \n",
       "198867  POINT (127.10458 37.33241)  \n",
       "198868  POINT (127.30523 37.07241)  \n",
       "198869  POINT (127.30062 37.06565)  \n",
       "198870  POINT (126.78002 37.82514)  \n",
       "198871  POINT (126.77972 37.82497)  "
      ]
     },
     "execution_count": 10,
     "metadata": {},
     "output_type": "execute_result"
    }
   ],
   "source": [
    "#노드 데이터 확인\n",
    "gdf_node.tail()"
   ]
  },
  {
   "cell_type": "code",
   "execution_count": 17,
   "id": "d86271a5",
   "metadata": {},
   "outputs": [],
   "source": [
    "#csv로 저장(node)\n",
    "new_file_node = \"node_data.csv\"\n",
    "gdf_node.to_csv(f\"/Users/juhong/Library/CloudStorage/OneDrive-아주대학교/대학교/3학년 2학기/캡스톤/직접 연계 통계 모음/모음/교통량모음/[2022-11-15]NODELINKDATA/{new_file_node}\",encoding='cp949',index=False)"
   ]
  },
  {
   "cell_type": "code",
   "execution_count": 18,
   "id": "dc1a917d",
   "metadata": {},
   "outputs": [],
   "source": [
    "#csv로 저장(link)\n",
    "new_file_node = \"link_data.csv\"\n",
    "gdf_link.to_csv(f\"/Users/juhong/Library/CloudStorage/OneDrive-아주대학교/대학교/3학년 2학기/캡스톤/직접 연계 통계 모음/모음/교통량모음/[2022-11-15]NODELINKDATA/{new_file_node}\",encoding='cp949',index=False)"
   ]
  },
  {
   "cell_type": "code",
   "execution_count": null,
   "id": "7526e112",
   "metadata": {},
   "outputs": [],
   "source": []
  }
 ],
 "metadata": {
  "kernelspec": {
   "display_name": "Python 3 (ipykernel)",
   "language": "python",
   "name": "python3"
  },
  "language_info": {
   "codemirror_mode": {
    "name": "ipython",
    "version": 3
   },
   "file_extension": ".py",
   "mimetype": "text/x-python",
   "name": "python",
   "nbconvert_exporter": "python",
   "pygments_lexer": "ipython3",
   "version": "3.9.12"
  }
 },
 "nbformat": 4,
 "nbformat_minor": 5
}

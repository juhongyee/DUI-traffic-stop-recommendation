{
 "cells": [
  {
   "cell_type": "code",
   "execution_count": 2,
   "id": "9e52a4f6",
   "metadata": {},
   "outputs": [],
   "source": [
    "import shapefile\n",
    "import pandas as pd\n",
    "from pyproj import proj, transform"
   ]
  },
  {
   "cell_type": "code",
   "execution_count": 7,
   "id": "93e220bb",
   "metadata": {},
   "outputs": [],
   "source": [
    "#링크 경로\n",
    "shp_path_link = '/Users/juhong/Library/CloudStorage/OneDrive-아주대학교/대학교/3학년 2학기/캡스톤/직접 연계 통계 모음/모음/교통량모음/[2022-11-15]NODELINKDATA/MOCT_LINK.shp'"
   ]
  },
  {
   "cell_type": "code",
   "execution_count": 8,
   "id": "e08535a4",
   "metadata": {},
   "outputs": [],
   "source": [
    "#노드 경로\n",
    "shp_path_node = '/Users/juhong/Library/CloudStorage/OneDrive-아주대학교/대학교/3학년 2학기/캡스톤/직접 연계 통계 모음/모음/교통량모음/[2022-11-15]NODELINKDATA/MOCT_NODE.shp'"
   ]
  },
  {
   "cell_type": "code",
   "execution_count": 18,
   "id": "7cd4a77d",
   "metadata": {},
   "outputs": [],
   "source": [
    "sf_node = shapefile.Reader(shp_path_node,encoding='cp949')\n",
    "sf_link = shapefile.Reader(shp_path_link,encoding='cp949')"
   ]
  },
  {
   "cell_type": "code",
   "execution_count": 19,
   "id": "572a9f1d",
   "metadata": {},
   "outputs": [],
   "source": [
    "fields_node = [x[0] for x in sf_node.fields][1:]\n",
    "records_node = sf_node.records()\n",
    "shps = [s.points for s in sf_node.shapes()]"
   ]
  },
  {
   "cell_type": "code",
   "execution_count": 20,
   "id": "bb8223b9",
   "metadata": {},
   "outputs": [],
   "source": [
    "fields_link = [x[0] for x in sf_link.fields][1:]\n",
    "records_link = sf_link.records()"
   ]
  },
  {
   "cell_type": "code",
   "execution_count": 21,
   "id": "b528f3c9",
   "metadata": {},
   "outputs": [
    {
     "name": "stderr",
     "output_type": "stream",
     "text": [
      "IOPub data rate exceeded.\n",
      "The notebook server will temporarily stop sending output\n",
      "to the client in order to avoid crashing it.\n",
      "To change this limit, set the config variable\n",
      "`--NotebookApp.iopub_data_rate_limit`.\n",
      "\n",
      "Current values:\n",
      "NotebookApp.iopub_data_rate_limit=1000000.0 (bytes/sec)\n",
      "NotebookApp.rate_limit_window=3.0 (secs)\n",
      "\n"
     ]
    }
   ],
   "source": [
    "print(records_node)"
   ]
  },
  {
   "cell_type": "code",
   "execution_count": 22,
   "id": "53449913",
   "metadata": {},
   "outputs": [],
   "source": [
    "node_dataframe = pd.DataFrame(columns=fields_node,data = records_node)"
   ]
  },
  {
   "cell_type": "code",
   "execution_count": null,
   "id": "94724756",
   "metadata": {},
   "outputs": [],
   "source": []
  }
 ],
 "metadata": {
  "kernelspec": {
   "display_name": "Python 3 (ipykernel)",
   "language": "python",
   "name": "python3"
  },
  "language_info": {
   "codemirror_mode": {
    "name": "ipython",
    "version": 3
   },
   "file_extension": ".py",
   "mimetype": "text/x-python",
   "name": "python",
   "nbconvert_exporter": "python",
   "pygments_lexer": "ipython3",
   "version": "3.9.12"
  }
 },
 "nbformat": 4,
 "nbformat_minor": 5
}

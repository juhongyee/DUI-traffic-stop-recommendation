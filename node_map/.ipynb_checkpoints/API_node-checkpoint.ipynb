{
 "cells": [
  {
   "cell_type": "code",
   "execution_count": 3,
   "id": "949f6bdb",
   "metadata": {},
   "outputs": [],
   "source": [
    "import requests\n",
    "import pprint"
   ]
  },
  {
   "cell_type": "code",
   "execution_count": 4,
   "id": "85486bb3",
   "metadata": {},
   "outputs": [],
   "source": [
    "params = {\n",
    "    'apikey' : 'c98e702b-21f3-43ca-b35d-e0f810760c77',\n",
    "    'startRow' : '1',\n",
    "    'rowCnt' : '10'\n",
    "}\n",
    "\n",
    "response = requests.get('http://t-data.seoul.go.kr/apig/apiman-gateway/tapi/TopisIccMsNode/1.0',params = params)"
   ]
  },
  {
   "cell_type": "code",
   "execution_count": 5,
   "id": "0d0e3656",
   "metadata": {},
   "outputs": [],
   "source": [
    "import json\n",
    "import csv"
   ]
  },
  {
   "cell_type": "code",
   "execution_count": 8,
   "id": "ae191613",
   "metadata": {},
   "outputs": [],
   "source": [
    "json_object = json.loads(response.content)"
   ]
  },
  {
   "cell_type": "code",
   "execution_count": 9,
   "id": "ddd59320",
   "metadata": {},
   "outputs": [
    {
     "data": {
      "text/plain": [
       "{'type': 'Other',\n",
       " 'failureCode': 10005,\n",
       " 'responseCode': 429,\n",
       " 'message': 'Rate limit exceeded.',\n",
       " 'headers': {'X-RateLimit-Limit': '1000',\n",
       "  'X-RateLimit-Remaining': '-1',\n",
       "  'X-RateLimit-Reset': '83314'}}"
      ]
     },
     "execution_count": 9,
     "metadata": {},
     "output_type": "execute_result"
    }
   ],
   "source": [
    "json_object"
   ]
  },
  {
   "cell_type": "code",
   "execution_count": 10,
   "id": "f9fd3947",
   "metadata": {},
   "outputs": [],
   "source": [
    "import requests\n",
    "import pprint\n",
    "import json\n",
    "import csv\n",
    "\n",
    "i = 1\n",
    "\n",
    "\n",
    "params = {\n",
    "'apikey' : 'c98e702b-21f3-43ca-b35d-e0f810760c77',\n",
    "'startRow' : '0',\n",
    "'rowCnt' : '100'\n",
    "}\n",
    "\n",
    "response = requests.get('http://t-data.seoul.go.kr/apig/apiman-gateway/tapi/TopisIccMsNode/1.0',params = params)"
   ]
  },
  {
   "cell_type": "code",
   "execution_count": null,
   "id": "961b7b3c",
   "metadata": {},
   "outputs": [],
   "source": []
  },
  {
   "cell_type": "code",
   "execution_count": 11,
   "id": "44194c92",
   "metadata": {},
   "outputs": [
    {
     "data": {
      "text/plain": [
       "{'type': 'Other',\n",
       " 'failureCode': 10005,\n",
       " 'responseCode': 429,\n",
       " 'message': 'Rate limit exceeded.',\n",
       " 'headers': {'X-RateLimit-Limit': '1000',\n",
       "  'X-RateLimit-Remaining': '-1',\n",
       "  'X-RateLimit-Reset': '83283'}}"
      ]
     },
     "execution_count": 11,
     "metadata": {},
     "output_type": "execute_result"
    }
   ],
   "source": [
    "json_object = json.loads(response.content)\n",
    "json_object"
   ]
  },
  {
   "cell_type": "code",
   "execution_count": null,
   "id": "00b4a222",
   "metadata": {},
   "outputs": [],
   "source": []
  }
 ],
 "metadata": {
  "kernelspec": {
   "display_name": "Python 3 (ipykernel)",
   "language": "python",
   "name": "python3"
  },
  "language_info": {
   "codemirror_mode": {
    "name": "ipython",
    "version": 3
   },
   "file_extension": ".py",
   "mimetype": "text/x-python",
   "name": "python",
   "nbconvert_exporter": "python",
   "pygments_lexer": "ipython3",
   "version": "3.9.12"
  }
 },
 "nbformat": 4,
 "nbformat_minor": 5
}

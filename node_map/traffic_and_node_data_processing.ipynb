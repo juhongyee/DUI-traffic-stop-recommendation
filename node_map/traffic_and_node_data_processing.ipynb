{
 "cells": [
  {
   "cell_type": "code",
   "execution_count": 18,
   "id": "33ea6446",
   "metadata": {},
   "outputs": [],
   "source": [
    "import pandas as pd\n",
    "import numpy as np"
   ]
  },
  {
   "cell_type": "code",
   "execution_count": 41,
   "id": "dbfa29dd",
   "metadata": {},
   "outputs": [],
   "source": [
    "file_node_link = '/Users/juhong/Library/CloudStorage/OneDrive-아주대학교/대학교/3학년 2학기/캡스톤/직접 연계 통계 모음/모음/교통량모음/교통량 처리/node_data.csv'"
   ]
  },
  {
   "cell_type": "code",
   "execution_count": 42,
   "id": "d3e698e9",
   "metadata": {},
   "outputs": [
    {
     "name": "stderr",
     "output_type": "stream",
     "text": [
      "/var/folders/d2/20dks6yj46b_077x0h5fmr740000gn/T/ipykernel_2981/1134980447.py:1: DtypeWarning: Columns (4) have mixed types. Specify dtype option on import or set low_memory=False.\n",
      "  df = pd.read_csv(file_node_link,encoding = 'cp949')\n"
     ]
    }
   ],
   "source": [
    "df = pd.read_csv(file_node_link,encoding = 'cp949')"
   ]
  },
  {
   "cell_type": "code",
   "execution_count": 43,
   "id": "b9fb0774",
   "metadata": {},
   "outputs": [
    {
     "data": {
      "text/html": [
       "<div>\n",
       "<style scoped>\n",
       "    .dataframe tbody tr th:only-of-type {\n",
       "        vertical-align: middle;\n",
       "    }\n",
       "\n",
       "    .dataframe tbody tr th {\n",
       "        vertical-align: top;\n",
       "    }\n",
       "\n",
       "    .dataframe thead th {\n",
       "        text-align: right;\n",
       "    }\n",
       "</style>\n",
       "<table border=\"1\" class=\"dataframe\">\n",
       "  <thead>\n",
       "    <tr style=\"text-align: right;\">\n",
       "      <th></th>\n",
       "      <th>NODE_ID</th>\n",
       "      <th>NODE_TYPE</th>\n",
       "      <th>NODE_NAME</th>\n",
       "      <th>TURN_P</th>\n",
       "      <th>REMARK</th>\n",
       "      <th>geometry</th>\n",
       "    </tr>\n",
       "  </thead>\n",
       "  <tbody>\n",
       "    <tr>\n",
       "      <th>0</th>\n",
       "      <td>3680002100</td>\n",
       "      <td>101</td>\n",
       "      <td>수성2교차로</td>\n",
       "      <td>0</td>\n",
       "      <td>NaN</td>\n",
       "      <td>POINT (128.18322179476573 35.868756650008145)</td>\n",
       "    </tr>\n",
       "    <tr>\n",
       "      <th>1</th>\n",
       "      <td>1865949201</td>\n",
       "      <td>101</td>\n",
       "      <td>둔곡국가산업단지</td>\n",
       "      <td>0</td>\n",
       "      <td>NaN</td>\n",
       "      <td>POINT (127.35891693841688 36.452237812894204)</td>\n",
       "    </tr>\n",
       "    <tr>\n",
       "      <th>2</th>\n",
       "      <td>3280218101</td>\n",
       "      <td>101</td>\n",
       "      <td>여수성황고가교</td>\n",
       "      <td>1</td>\n",
       "      <td>NaN</td>\n",
       "      <td>POINT (127.67617499993783 34.932872998457114)</td>\n",
       "    </tr>\n",
       "    <tr>\n",
       "      <th>3</th>\n",
       "      <td>2980010700</td>\n",
       "      <td>101</td>\n",
       "      <td>대지삼거리</td>\n",
       "      <td>0</td>\n",
       "      <td>NaN</td>\n",
       "      <td>POINT (126.69816817564961 36.74202186433034)</td>\n",
       "    </tr>\n",
       "    <tr>\n",
       "      <th>4</th>\n",
       "      <td>2230002405</td>\n",
       "      <td>101</td>\n",
       "      <td>주피엔지오산공장앞교차로</td>\n",
       "      <td>1</td>\n",
       "      <td>NaN</td>\n",
       "      <td>POINT (127.05778259845701 37.151922307897934)</td>\n",
       "    </tr>\n",
       "  </tbody>\n",
       "</table>\n",
       "</div>"
      ],
      "text/plain": [
       "      NODE_ID  NODE_TYPE     NODE_NAME  TURN_P REMARK  \\\n",
       "0  3680002100        101        수성2교차로       0    NaN   \n",
       "1  1865949201        101      둔곡국가산업단지       0    NaN   \n",
       "2  3280218101        101       여수성황고가교       1    NaN   \n",
       "3  2980010700        101         대지삼거리       0    NaN   \n",
       "4  2230002405        101  주피엔지오산공장앞교차로       1    NaN   \n",
       "\n",
       "                                        geometry  \n",
       "0  POINT (128.18322179476573 35.868756650008145)  \n",
       "1  POINT (127.35891693841688 36.452237812894204)  \n",
       "2  POINT (127.67617499993783 34.932872998457114)  \n",
       "3   POINT (126.69816817564961 36.74202186433034)  \n",
       "4  POINT (127.05778259845701 37.151922307897934)  "
      ]
     },
     "execution_count": 43,
     "metadata": {},
     "output_type": "execute_result"
    }
   ],
   "source": [
    "df.head()"
   ]
  },
  {
   "cell_type": "code",
   "execution_count": 44,
   "id": "4e9383b5",
   "metadata": {},
   "outputs": [],
   "source": [
    "df_gangnam = df['NODE_ID'].apply(lambda x : x if(x//10000000==122) else 0)"
   ]
  },
  {
   "cell_type": "code",
   "execution_count": 45,
   "id": "df8cb958",
   "metadata": {},
   "outputs": [],
   "source": [
    "df_gangnam = df_gangnam.replace(0,np.NaN)"
   ]
  },
  {
   "cell_type": "code",
   "execution_count": 46,
   "id": "93dd09cc",
   "metadata": {},
   "outputs": [],
   "source": [
    "df = df.drop(['NODE_ID'],axis=1)"
   ]
  },
  {
   "cell_type": "code",
   "execution_count": 47,
   "id": "814bff1d",
   "metadata": {},
   "outputs": [],
   "source": [
    "df_gangnam = pd.concat([df_gangnam,df],axis=1)"
   ]
  },
  {
   "cell_type": "code",
   "execution_count": 48,
   "id": "ec27bfd4",
   "metadata": {},
   "outputs": [],
   "source": [
    "df_gangnam = df_gangnam.drop(['REMARK'],axis=1)"
   ]
  },
  {
   "cell_type": "code",
   "execution_count": 51,
   "id": "34a9d7ce",
   "metadata": {},
   "outputs": [],
   "source": [
    "df_gangnam = df_gangnam.dropna()\n",
    "df_gangnam = df_gangnam.reset_index()"
   ]
  },
  {
   "cell_type": "code",
   "execution_count": 52,
   "id": "b12188e9",
   "metadata": {},
   "outputs": [
    {
     "data": {
      "text/html": [
       "<div>\n",
       "<style scoped>\n",
       "    .dataframe tbody tr th:only-of-type {\n",
       "        vertical-align: middle;\n",
       "    }\n",
       "\n",
       "    .dataframe tbody tr th {\n",
       "        vertical-align: top;\n",
       "    }\n",
       "\n",
       "    .dataframe thead th {\n",
       "        text-align: right;\n",
       "    }\n",
       "</style>\n",
       "<table border=\"1\" class=\"dataframe\">\n",
       "  <thead>\n",
       "    <tr style=\"text-align: right;\">\n",
       "      <th></th>\n",
       "      <th>index</th>\n",
       "      <th>NODE_ID</th>\n",
       "      <th>NODE_TYPE</th>\n",
       "      <th>NODE_NAME</th>\n",
       "      <th>TURN_P</th>\n",
       "      <th>geometry</th>\n",
       "    </tr>\n",
       "  </thead>\n",
       "  <tbody>\n",
       "    <tr>\n",
       "      <th>0</th>\n",
       "      <td>998</td>\n",
       "      <td>1.220151e+09</td>\n",
       "      <td>104</td>\n",
       "      <td>구룡지하차도동측</td>\n",
       "      <td>0</td>\n",
       "      <td>POINT (127.05502928942961 37.47402378421716)</td>\n",
       "    </tr>\n",
       "    <tr>\n",
       "      <th>1</th>\n",
       "      <td>2342</td>\n",
       "      <td>1.220014e+09</td>\n",
       "      <td>101</td>\n",
       "      <td>자곡사거리</td>\n",
       "      <td>1</td>\n",
       "      <td>POINT (127.1062930585011 37.475554078467475)</td>\n",
       "    </tr>\n",
       "    <tr>\n",
       "      <th>2</th>\n",
       "      <td>2544</td>\n",
       "      <td>1.220018e+09</td>\n",
       "      <td>101</td>\n",
       "      <td>수서역4번출구</td>\n",
       "      <td>0</td>\n",
       "      <td>POINT (127.10296038187033 37.486289977076396)</td>\n",
       "    </tr>\n",
       "    <tr>\n",
       "      <th>3</th>\n",
       "      <td>2545</td>\n",
       "      <td>1.220018e+09</td>\n",
       "      <td>101</td>\n",
       "      <td>수서아파트6단지607동</td>\n",
       "      <td>0</td>\n",
       "      <td>POINT (127.10437337272027 37.48646420764026)</td>\n",
       "    </tr>\n",
       "    <tr>\n",
       "      <th>4</th>\n",
       "      <td>2546</td>\n",
       "      <td>1.220020e+09</td>\n",
       "      <td>101</td>\n",
       "      <td>수서역앞교차로</td>\n",
       "      <td>1</td>\n",
       "      <td>POINT (127.10168900577904 37.48736194934188)</td>\n",
       "    </tr>\n",
       "    <tr>\n",
       "      <th>...</th>\n",
       "      <td>...</td>\n",
       "      <td>...</td>\n",
       "      <td>...</td>\n",
       "      <td>...</td>\n",
       "      <td>...</td>\n",
       "      <td>...</td>\n",
       "    </tr>\n",
       "    <tr>\n",
       "      <th>646</th>\n",
       "      <td>198817</td>\n",
       "      <td>1.220159e+09</td>\n",
       "      <td>101</td>\n",
       "      <td>자곡동205-9</td>\n",
       "      <td>1</td>\n",
       "      <td>POINT (127.10472843460819 37.48224730568603)</td>\n",
       "    </tr>\n",
       "    <tr>\n",
       "      <th>647</th>\n",
       "      <td>200347</td>\n",
       "      <td>1.220160e+09</td>\n",
       "      <td>101</td>\n",
       "      <td>수서동242-6</td>\n",
       "      <td>0</td>\n",
       "      <td>POINT (127.10586449999336 37.486410893394776)</td>\n",
       "    </tr>\n",
       "    <tr>\n",
       "      <th>648</th>\n",
       "      <td>200348</td>\n",
       "      <td>1.220160e+09</td>\n",
       "      <td>101</td>\n",
       "      <td>수서동235-2</td>\n",
       "      <td>1</td>\n",
       "      <td>POINT (127.10685005657982 37.48640065666288)</td>\n",
       "    </tr>\n",
       "    <tr>\n",
       "      <th>649</th>\n",
       "      <td>200349</td>\n",
       "      <td>1.220160e+09</td>\n",
       "      <td>101</td>\n",
       "      <td>수서동186-1</td>\n",
       "      <td>0</td>\n",
       "      <td>POINT (127.107324948588 37.48535552787398)</td>\n",
       "    </tr>\n",
       "    <tr>\n",
       "      <th>650</th>\n",
       "      <td>200350</td>\n",
       "      <td>1.220159e+09</td>\n",
       "      <td>101</td>\n",
       "      <td>수서동194-6</td>\n",
       "      <td>0</td>\n",
       "      <td>POINT (127.10655201311982 37.48526620018238)</td>\n",
       "    </tr>\n",
       "  </tbody>\n",
       "</table>\n",
       "<p>651 rows × 6 columns</p>\n",
       "</div>"
      ],
      "text/plain": [
       "      index       NODE_ID  NODE_TYPE     NODE_NAME  TURN_P  \\\n",
       "0       998  1.220151e+09        104      구룡지하차도동측       0   \n",
       "1      2342  1.220014e+09        101         자곡사거리       1   \n",
       "2      2544  1.220018e+09        101       수서역4번출구       0   \n",
       "3      2545  1.220018e+09        101  수서아파트6단지607동       0   \n",
       "4      2546  1.220020e+09        101       수서역앞교차로       1   \n",
       "..      ...           ...        ...           ...     ...   \n",
       "646  198817  1.220159e+09        101      자곡동205-9       1   \n",
       "647  200347  1.220160e+09        101      수서동242-6       0   \n",
       "648  200348  1.220160e+09        101      수서동235-2       1   \n",
       "649  200349  1.220160e+09        101      수서동186-1       0   \n",
       "650  200350  1.220159e+09        101      수서동194-6       0   \n",
       "\n",
       "                                          geometry  \n",
       "0     POINT (127.05502928942961 37.47402378421716)  \n",
       "1     POINT (127.1062930585011 37.475554078467475)  \n",
       "2    POINT (127.10296038187033 37.486289977076396)  \n",
       "3     POINT (127.10437337272027 37.48646420764026)  \n",
       "4     POINT (127.10168900577904 37.48736194934188)  \n",
       "..                                             ...  \n",
       "646   POINT (127.10472843460819 37.48224730568603)  \n",
       "647  POINT (127.10586449999336 37.486410893394776)  \n",
       "648   POINT (127.10685005657982 37.48640065666288)  \n",
       "649     POINT (127.107324948588 37.48535552787398)  \n",
       "650   POINT (127.10655201311982 37.48526620018238)  \n",
       "\n",
       "[651 rows x 6 columns]"
      ]
     },
     "execution_count": 52,
     "metadata": {},
     "output_type": "execute_result"
    }
   ],
   "source": [
    "df_gangnam.to_csv('/Users/juhong/Library/CloudStorage/OneDrive-아주대학교/대학교/3학년 2학기/캡스톤/직접 연계 통계 모음/모음/교통량모음/노드링크/강남구_노드')"
   ]
  },
  {
   "cell_type": "code",
   "execution_count": null,
   "id": "63158f24",
   "metadata": {},
   "outputs": [],
   "source": []
  }
 ],
 "metadata": {
  "kernelspec": {
   "display_name": "Python 3 (ipykernel)",
   "language": "python",
   "name": "python3"
  },
  "language_info": {
   "codemirror_mode": {
    "name": "ipython",
    "version": 3
   },
   "file_extension": ".py",
   "mimetype": "text/x-python",
   "name": "python",
   "nbconvert_exporter": "python",
   "pygments_lexer": "ipython3",
   "version": "3.9.12"
  }
 },
 "nbformat": 4,
 "nbformat_minor": 5
}

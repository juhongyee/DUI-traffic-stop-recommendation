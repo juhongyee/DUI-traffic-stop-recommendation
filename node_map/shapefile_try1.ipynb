{
 "cells": [
  {
   "cell_type": "code",
   "execution_count": 2,
   "id": "3c4e5963",
   "metadata": {},
   "outputs": [],
   "source": [
    "import shapefile\n",
    "import pandas as pd\n",
    "from pyproj import proj, transform"
   ]
  },
  {
   "cell_type": "code",
   "execution_count": 54,
   "id": "fa6b13db",
   "metadata": {},
   "outputs": [],
   "source": [
    "#링크 경로\n",
    "shp_path_link = '/Users/juhong/Library/CloudStorage/OneDrive-아주대학교/대학교/3학년 2학기/캡스톤/직접 연계 통계 모음/모음/교통량모음/[2022-11-15]NODELINKDATA/MOCT_LINK.dbf'"
   ]
  },
  {
   "cell_type": "code",
   "execution_count": 8,
   "id": "dc2cc72b",
   "metadata": {},
   "outputs": [],
   "source": [
    "#노드 경로\n",
    "shp_path_node = '/Users/juhong/Library/CloudStorage/OneDrive-아주대학교/대학교/3학년 2학기/캡스톤/직접 연계 통계 모음/모음/교통량모음/[2022-11-15]NODELINKDATA/MOCT_NODE.shp'"
   ]
  },
  {
   "cell_type": "code",
   "execution_count": 55,
   "id": "034700d8",
   "metadata": {},
   "outputs": [],
   "source": [
    "sf_node = shapefile.Reader(shp_path_node,encoding='cp949')\n",
    "sf_link = shapefile.Reader(shp_path_link,encoding='cp949')"
   ]
  },
  {
   "cell_type": "code",
   "execution_count": 77,
   "id": "addfa7b1",
   "metadata": {},
   "outputs": [],
   "source": [
    "#copy code\n",
    "# node\n",
    "fields_node = [x[0] for x in sf_node.fields][1:]\n",
    "records_node = sf_node.records()\n",
    "shps = [s.points for s in sf_node.shapes()] # node has coordinate data."
   ]
  },
  {
   "cell_type": "code",
   "execution_count": 78,
   "id": "4aad4cb6",
   "metadata": {},
   "outputs": [],
   "source": [
    "fields_link = [x[0] for x in sf_link.fields][1:]\n",
    "records_link = sf_link.records()"
   ]
  },
  {
   "cell_type": "code",
   "execution_count": 79,
   "id": "58f0787a",
   "metadata": {},
   "outputs": [],
   "source": [
    "node_dataframe = pd.DataFrame(columns=fields_node,data = records_node)"
   ]
  },
  {
   "cell_type": "code",
   "execution_count": 80,
   "id": "67b8d43f",
   "metadata": {},
   "outputs": [
    {
     "data": {
      "text/html": [
       "<div>\n",
       "<style scoped>\n",
       "    .dataframe tbody tr th:only-of-type {\n",
       "        vertical-align: middle;\n",
       "    }\n",
       "\n",
       "    .dataframe tbody tr th {\n",
       "        vertical-align: top;\n",
       "    }\n",
       "\n",
       "    .dataframe thead th {\n",
       "        text-align: right;\n",
       "    }\n",
       "</style>\n",
       "<table border=\"1\" class=\"dataframe\">\n",
       "  <thead>\n",
       "    <tr style=\"text-align: right;\">\n",
       "      <th></th>\n",
       "      <th>NODE_ID</th>\n",
       "      <th>NODE_TYPE</th>\n",
       "      <th>NODE_NAME</th>\n",
       "      <th>TURN_P</th>\n",
       "      <th>REMARK</th>\n",
       "    </tr>\n",
       "  </thead>\n",
       "  <tbody>\n",
       "    <tr>\n",
       "      <th>1</th>\n",
       "      <td>1865949201</td>\n",
       "      <td>101</td>\n",
       "      <td>둔곡국가산업단지</td>\n",
       "      <td>0</td>\n",
       "      <td></td>\n",
       "    </tr>\n",
       "    <tr>\n",
       "      <th>2</th>\n",
       "      <td>3280218101</td>\n",
       "      <td>101</td>\n",
       "      <td>여수성황고가교</td>\n",
       "      <td>1</td>\n",
       "      <td></td>\n",
       "    </tr>\n",
       "    <tr>\n",
       "      <th>3</th>\n",
       "      <td>2980010700</td>\n",
       "      <td>101</td>\n",
       "      <td>대지삼거리</td>\n",
       "      <td>0</td>\n",
       "      <td></td>\n",
       "    </tr>\n",
       "    <tr>\n",
       "      <th>4</th>\n",
       "      <td>2230002405</td>\n",
       "      <td>101</td>\n",
       "      <td>주피엔지오산공장앞교차로</td>\n",
       "      <td>1</td>\n",
       "      <td></td>\n",
       "    </tr>\n",
       "  </tbody>\n",
       "</table>\n",
       "</div>"
      ],
      "text/plain": [
       "      NODE_ID NODE_TYPE     NODE_NAME TURN_P REMARK\n",
       "1  1865949201       101      둔곡국가산업단지      0       \n",
       "2  3280218101       101       여수성황고가교      1       \n",
       "3  2980010700       101         대지삼거리      0       \n",
       "4  2230002405       101  주피엔지오산공장앞교차로      1       "
      ]
     },
     "execution_count": 80,
     "metadata": {},
     "output_type": "execute_result"
    }
   ],
   "source": [
    "node_dataframe[1:5]"
   ]
  },
  {
   "cell_type": "code",
   "execution_count": 49,
   "id": "fb560eca",
   "metadata": {},
   "outputs": [],
   "source": [
    "link_dataframe = pd.DataFrame(columns=fields_link,data=records_link)"
   ]
  },
  {
   "cell_type": "code",
   "execution_count": 41,
   "id": "e82d4efe",
   "metadata": {},
   "outputs": [
    {
     "data": {
      "text/html": [
       "<div>\n",
       "<style scoped>\n",
       "    .dataframe tbody tr th:only-of-type {\n",
       "        vertical-align: middle;\n",
       "    }\n",
       "\n",
       "    .dataframe tbody tr th {\n",
       "        vertical-align: top;\n",
       "    }\n",
       "\n",
       "    .dataframe thead th {\n",
       "        text-align: right;\n",
       "    }\n",
       "</style>\n",
       "<table border=\"1\" class=\"dataframe\">\n",
       "  <thead>\n",
       "    <tr style=\"text-align: right;\">\n",
       "      <th></th>\n",
       "      <th>LINK_ID</th>\n",
       "      <th>F_NODE</th>\n",
       "      <th>T_NODE</th>\n",
       "      <th>LANES</th>\n",
       "      <th>ROAD_RANK</th>\n",
       "      <th>ROAD_TYPE</th>\n",
       "      <th>ROAD_NO</th>\n",
       "      <th>ROAD_NAME</th>\n",
       "      <th>ROAD_USE</th>\n",
       "      <th>MULTI_LINK</th>\n",
       "      <th>CONNECT</th>\n",
       "      <th>MAX_SPD</th>\n",
       "      <th>REST_VEH</th>\n",
       "      <th>REST_W</th>\n",
       "      <th>REST_H</th>\n",
       "      <th>LENGTH</th>\n",
       "      <th>REMARK</th>\n",
       "    </tr>\n",
       "  </thead>\n",
       "  <tbody>\n",
       "    <tr>\n",
       "      <th>0</th>\n",
       "      <td>3530065500</td>\n",
       "      <td>3530037800</td>\n",
       "      <td>3530039300</td>\n",
       "      <td>1</td>\n",
       "      <td>107</td>\n",
       "      <td>000</td>\n",
       "      <td>-</td>\n",
       "      <td>용천4로5길</td>\n",
       "      <td>0</td>\n",
       "      <td>0</td>\n",
       "      <td>000</td>\n",
       "      <td>40</td>\n",
       "      <td>0</td>\n",
       "      <td>0</td>\n",
       "      <td>0</td>\n",
       "      <td>83.080471</td>\n",
       "      <td></td>\n",
       "    </tr>\n",
       "    <tr>\n",
       "      <th>1</th>\n",
       "      <td>2320132300</td>\n",
       "      <td>2320049500</td>\n",
       "      <td>2320049300</td>\n",
       "      <td>3</td>\n",
       "      <td>107</td>\n",
       "      <td>000</td>\n",
       "      <td>-</td>\n",
       "      <td>김포한강로</td>\n",
       "      <td>0</td>\n",
       "      <td>0</td>\n",
       "      <td>000</td>\n",
       "      <td>80</td>\n",
       "      <td>5</td>\n",
       "      <td>0</td>\n",
       "      <td>0</td>\n",
       "      <td>4251.230196</td>\n",
       "      <td></td>\n",
       "    </tr>\n",
       "    <tr>\n",
       "      <th>2</th>\n",
       "      <td>2320132400</td>\n",
       "      <td>2320050000</td>\n",
       "      <td>2320049900</td>\n",
       "      <td>3</td>\n",
       "      <td>107</td>\n",
       "      <td>000</td>\n",
       "      <td>-</td>\n",
       "      <td>김포한강로</td>\n",
       "      <td>0</td>\n",
       "      <td>0</td>\n",
       "      <td>000</td>\n",
       "      <td>80</td>\n",
       "      <td>5</td>\n",
       "      <td>0</td>\n",
       "      <td>0</td>\n",
       "      <td>1697.683644</td>\n",
       "      <td></td>\n",
       "    </tr>\n",
       "    <tr>\n",
       "      <th>3</th>\n",
       "      <td>2320132500</td>\n",
       "      <td>2320049900</td>\n",
       "      <td>2320050000</td>\n",
       "      <td>3</td>\n",
       "      <td>107</td>\n",
       "      <td>000</td>\n",
       "      <td>-</td>\n",
       "      <td>김포한강로</td>\n",
       "      <td>0</td>\n",
       "      <td>0</td>\n",
       "      <td>000</td>\n",
       "      <td>80</td>\n",
       "      <td>5</td>\n",
       "      <td>0</td>\n",
       "      <td>0</td>\n",
       "      <td>1694.251797</td>\n",
       "      <td></td>\n",
       "    </tr>\n",
       "    <tr>\n",
       "      <th>4</th>\n",
       "      <td>2320132600</td>\n",
       "      <td>2320048400</td>\n",
       "      <td>2320048600</td>\n",
       "      <td>1</td>\n",
       "      <td>107</td>\n",
       "      <td>000</td>\n",
       "      <td>-</td>\n",
       "      <td>김포대로320번길</td>\n",
       "      <td>0</td>\n",
       "      <td>0</td>\n",
       "      <td>000</td>\n",
       "      <td>60</td>\n",
       "      <td>0</td>\n",
       "      <td>0</td>\n",
       "      <td>0</td>\n",
       "      <td>895.393717</td>\n",
       "      <td></td>\n",
       "    </tr>\n",
       "  </tbody>\n",
       "</table>\n",
       "</div>"
      ],
      "text/plain": [
       "      LINK_ID      F_NODE      T_NODE  LANES ROAD_RANK ROAD_TYPE ROAD_NO  \\\n",
       "0  3530065500  3530037800  3530039300      1       107       000       -   \n",
       "1  2320132300  2320049500  2320049300      3       107       000       -   \n",
       "2  2320132400  2320050000  2320049900      3       107       000       -   \n",
       "3  2320132500  2320049900  2320050000      3       107       000       -   \n",
       "4  2320132600  2320048400  2320048600      1       107       000       -   \n",
       "\n",
       "   ROAD_NAME ROAD_USE MULTI_LINK CONNECT  MAX_SPD REST_VEH  REST_W  REST_H  \\\n",
       "0     용천4로5길        0          0     000       40        0       0       0   \n",
       "1      김포한강로        0          0     000       80        5       0       0   \n",
       "2      김포한강로        0          0     000       80        5       0       0   \n",
       "3      김포한강로        0          0     000       80        5       0       0   \n",
       "4  김포대로320번길        0          0     000       60        0       0       0   \n",
       "\n",
       "        LENGTH REMARK  \n",
       "0    83.080471         \n",
       "1  4251.230196         \n",
       "2  1697.683644         \n",
       "3  1694.251797         \n",
       "4   895.393717         "
      ]
     },
     "execution_count": 41,
     "metadata": {},
     "output_type": "execute_result"
    }
   ],
   "source": [
    "link_dataframe.head()"
   ]
  },
  {
   "cell_type": "code",
   "execution_count": 75,
   "id": "c9370d13",
   "metadata": {},
   "outputs": [
    {
     "name": "stdout",
     "output_type": "stream",
     "text": [
      "dict_keys(['type', 'coordinates'])\n"
     ]
    }
   ],
   "source": [
    "first=sf_node.shapeRecords()[1]\n",
    "element = first.shape.__geo_interface__\n",
    "print(element.keys())"
   ]
  },
  {
   "cell_type": "code",
   "execution_count": 76,
   "id": "7d12a6ad",
   "metadata": {},
   "outputs": [
    {
     "name": "stdout",
     "output_type": "stream",
     "text": [
      "dict_keys(['type', 'coordinates'])\n"
     ]
    }
   ],
   "source": [
    "print(element.keys())"
   ]
  },
  {
   "cell_type": "code",
   "execution_count": 82,
   "id": "e2ef8db0",
   "metadata": {},
   "outputs": [
    {
     "name": "stdout",
     "output_type": "stream",
     "text": [
      "{'type': 'Point', 'coordinates': (306862.5291000029, 364128.75820006494)}\n"
     ]
    }
   ],
   "source": [
    "shape_node = sf_node.shapeRecords()\n",
    "coordinate_node1 = records_node[0].shape.__geo_interface__\n",
    "print(coordinate_node1)"
   ]
  },
  {
   "cell_type": "code",
   "execution_count": 85,
   "id": "96b7772a",
   "metadata": {},
   "outputs": [
    {
     "name": "stdout",
     "output_type": "stream",
     "text": [
      "{'type': 'Point', 'coordinates': (173042.91625594144, 460426.2495363818)}\n"
     ]
    }
   ],
   "source": [
    "coordinate_node1 = records_node[3].shape.__geo_interface__\n",
    "print(coordinate_node1)"
   ]
  },
  {
   "cell_type": "code",
   "execution_count": null,
   "id": "667575de",
   "metadata": {},
   "outputs": [],
   "source": []
  }
 ],
 "metadata": {
  "kernelspec": {
   "display_name": "Python 3 (ipykernel)",
   "language": "python",
   "name": "python3"
  },
  "language_info": {
   "codemirror_mode": {
    "name": "ipython",
    "version": 3
   },
   "file_extension": ".py",
   "mimetype": "text/x-python",
   "name": "python",
   "nbconvert_exporter": "python",
   "pygments_lexer": "ipython3",
   "version": "3.9.12"
  }
 },
 "nbformat": 4,
 "nbformat_minor": 5
}

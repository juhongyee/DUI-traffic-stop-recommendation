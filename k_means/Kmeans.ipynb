{
 "cells": [
  {
   "cell_type": "code",
   "execution_count": 59,
   "id": "76a5efd5",
   "metadata": {},
   "outputs": [],
   "source": [
    "from sklearn.datasets import make_blobs\n",
    "import pandas as pd\n",
    "import numpy as np\n",
    "import math\n",
    "import scipy as sp\n",
    "import seaborn as sns\n",
    "import matplotlib.pyplot as plt\n",
    "from sklearn.cluster import KMeans\n",
    "from haversine import haversine"
   ]
  },
  {
   "cell_type": "code",
   "execution_count": 60,
   "id": "e128d67d",
   "metadata": {},
   "outputs": [],
   "source": [
    "df = pd.read_csv(\"/Users/juhong/Library/CloudStorage/OneDrive-아주대학교/대학교/3학년 2학기/캡스톤/DUI-traffic-stop-recommendation/bar_list.csv\",encoding=\"CP949\")"
   ]
  },
  {
   "cell_type": "code",
   "execution_count": 61,
   "id": "f137f273",
   "metadata": {},
   "outputs": [
    {
     "data": {
      "text/html": [
       "<div>\n",
       "<style scoped>\n",
       "    .dataframe tbody tr th:only-of-type {\n",
       "        vertical-align: middle;\n",
       "    }\n",
       "\n",
       "    .dataframe tbody tr th {\n",
       "        vertical-align: top;\n",
       "    }\n",
       "\n",
       "    .dataframe thead th {\n",
       "        text-align: right;\n",
       "    }\n",
       "</style>\n",
       "<table border=\"1\" class=\"dataframe\">\n",
       "  <thead>\n",
       "    <tr style=\"text-align: right;\">\n",
       "      <th></th>\n",
       "      <th>Unnamed: 0</th>\n",
       "      <th>지번주소</th>\n",
       "      <th>도로명주소</th>\n",
       "      <th>사업장명</th>\n",
       "      <th>위도</th>\n",
       "      <th>경도</th>\n",
       "    </tr>\n",
       "  </thead>\n",
       "  <tbody>\n",
       "    <tr>\n",
       "      <th>0</th>\n",
       "      <td>0</td>\n",
       "      <td>서울특별시 강남구 신사동 525-13 지상1층101102호</td>\n",
       "      <td>서울특별시 강남구 압구정로4길 13-13 (신사동지상1층101102호)</td>\n",
       "      <td>르포트 13</td>\n",
       "      <td>37.522346</td>\n",
       "      <td>127.018259</td>\n",
       "    </tr>\n",
       "    <tr>\n",
       "      <th>1</th>\n",
       "      <td>1</td>\n",
       "      <td>서울특별시 강남구 삼성동 150-21번지 지상1층</td>\n",
       "      <td>서울특별시 강남구 삼성로104길 7 (삼성동지상1층)</td>\n",
       "      <td>한탕</td>\n",
       "      <td>37.510909</td>\n",
       "      <td>127.052322</td>\n",
       "    </tr>\n",
       "    <tr>\n",
       "      <th>2</th>\n",
       "      <td>2</td>\n",
       "      <td>서울특별시 강남구 논현동 242-21 삼아프라자</td>\n",
       "      <td>서울특별시 강남구 선릉로129길 3-6 삼아프라자 1층 101호 (논현동)</td>\n",
       "      <td>묵호일식</td>\n",
       "      <td>37.515947</td>\n",
       "      <td>127.038082</td>\n",
       "    </tr>\n",
       "    <tr>\n",
       "      <th>3</th>\n",
       "      <td>3</td>\n",
       "      <td>서울특별시 강남구 청담동 95-15번지 지상2층</td>\n",
       "      <td>서울특별시 강남구 압구정로72길 22 지상2층 (청담동)</td>\n",
       "      <td>볼트스테이크하우스(Vault steak house)</td>\n",
       "      <td>37.525020</td>\n",
       "      <td>127.042083</td>\n",
       "    </tr>\n",
       "    <tr>\n",
       "      <th>4</th>\n",
       "      <td>4</td>\n",
       "      <td>서울특별시 강남구 역삼동 817-21 지상1층</td>\n",
       "      <td>서울특별시 강남구 강남대로96길 17 (역삼동지상1층)</td>\n",
       "      <td>용용선생 강남역점</td>\n",
       "      <td>37.500139</td>\n",
       "      <td>127.025509</td>\n",
       "    </tr>\n",
       "    <tr>\n",
       "      <th>...</th>\n",
       "      <td>...</td>\n",
       "      <td>...</td>\n",
       "      <td>...</td>\n",
       "      <td>...</td>\n",
       "      <td>...</td>\n",
       "      <td>...</td>\n",
       "    </tr>\n",
       "    <tr>\n",
       "      <th>498</th>\n",
       "      <td>498</td>\n",
       "      <td>서울특별시 강남구 신사동 623-2번지</td>\n",
       "      <td>서울특별시 강남구 언주로 841 (신사동)</td>\n",
       "      <td>산봉면옥</td>\n",
       "      <td>37.525560</td>\n",
       "      <td>127.030005</td>\n",
       "    </tr>\n",
       "    <tr>\n",
       "      <th>499</th>\n",
       "      <td>499</td>\n",
       "      <td>서울특별시 강남구 개포동 14-1번지 207-3호</td>\n",
       "      <td>서울특별시 강남구 개포로109길 34 (개포동207-3호)</td>\n",
       "      <td>클린턴광장</td>\n",
       "      <td>37.494216</td>\n",
       "      <td>127.074727</td>\n",
       "    </tr>\n",
       "    <tr>\n",
       "      <th>500</th>\n",
       "      <td>500</td>\n",
       "      <td>서울특별시 강남구 논현동 240-4번지 지하1층</td>\n",
       "      <td>서울특별시 강남구 학동로 330 (논현동지하1층)</td>\n",
       "      <td>리더스</td>\n",
       "      <td>37.516154</td>\n",
       "      <td>127.036136</td>\n",
       "    </tr>\n",
       "    <tr>\n",
       "      <th>501</th>\n",
       "      <td>501</td>\n",
       "      <td>서울특별시 강남구 논현동 234-1</td>\n",
       "      <td>서울특별시 강남구 논현로114길 8 지하1층 (논현동)</td>\n",
       "      <td>갤럭시 펍</td>\n",
       "      <td>37.508518</td>\n",
       "      <td>127.031186</td>\n",
       "    </tr>\n",
       "    <tr>\n",
       "      <th>502</th>\n",
       "      <td>502</td>\n",
       "      <td>서울특별시 강남구 대치동 956-0번지</td>\n",
       "      <td>서울특별시 강남구 삼성로86길 18 (대치동)</td>\n",
       "      <td>바젤</td>\n",
       "      <td>37.505850</td>\n",
       "      <td>127.056129</td>\n",
       "    </tr>\n",
       "  </tbody>\n",
       "</table>\n",
       "<p>503 rows × 6 columns</p>\n",
       "</div>"
      ],
      "text/plain": [
       "     Unnamed: 0                               지번주소  \\\n",
       "0             0  서울특별시 강남구 신사동 525-13 지상1층101102호    \n",
       "1             1       서울특별시 강남구 삼성동 150-21번지 지상1층    \n",
       "2             2        서울특별시 강남구 논현동 242-21 삼아프라자    \n",
       "3             3        서울특별시 강남구 청담동 95-15번지 지상2층    \n",
       "4             4         서울특별시 강남구 역삼동 817-21 지상1층    \n",
       "..          ...                                ...   \n",
       "498         498             서울특별시 강남구 신사동 623-2번지    \n",
       "499         499       서울특별시 강남구 개포동 14-1번지 207-3호    \n",
       "500         500        서울특별시 강남구 논현동 240-4번지 지하1층    \n",
       "501         501               서울특별시 강남구 논현동 234-1    \n",
       "502         502             서울특별시 강남구 대치동 956-0번지    \n",
       "\n",
       "                                         도로명주소                          사업장명  \\\n",
       "0      서울특별시 강남구 압구정로4길 13-13 (신사동지상1층101102호)                        르포트 13   \n",
       "1                서울특별시 강남구 삼성로104길 7 (삼성동지상1층)                            한탕   \n",
       "2    서울특별시 강남구 선릉로129길 3-6 삼아프라자 1층 101호 (논현동)                          묵호일식   \n",
       "3              서울특별시 강남구 압구정로72길 22 지상2층 (청담동)  볼트스테이크하우스(Vault steak house)   \n",
       "4               서울특별시 강남구 강남대로96길 17 (역삼동지상1층)                     용용선생 강남역점   \n",
       "..                                         ...                           ...   \n",
       "498                    서울특별시 강남구 언주로 841 (신사동)                          산봉면옥   \n",
       "499           서울특별시 강남구 개포로109길 34 (개포동207-3호)                         클린턴광장   \n",
       "500                서울특별시 강남구 학동로 330 (논현동지하1층)                           리더스   \n",
       "501             서울특별시 강남구 논현로114길 8 지하1층 (논현동)                         갤럭시 펍   \n",
       "502                  서울특별시 강남구 삼성로86길 18 (대치동)                            바젤   \n",
       "\n",
       "            위도          경도  \n",
       "0    37.522346  127.018259  \n",
       "1    37.510909  127.052322  \n",
       "2    37.515947  127.038082  \n",
       "3    37.525020  127.042083  \n",
       "4    37.500139  127.025509  \n",
       "..         ...         ...  \n",
       "498  37.525560  127.030005  \n",
       "499  37.494216  127.074727  \n",
       "500  37.516154  127.036136  \n",
       "501  37.508518  127.031186  \n",
       "502  37.505850  127.056129  \n",
       "\n",
       "[503 rows x 6 columns]"
      ]
     },
     "execution_count": 61,
     "metadata": {},
     "output_type": "execute_result"
    }
   ],
   "source": [
    "df"
   ]
  },
  {
   "cell_type": "code",
   "execution_count": 62,
   "id": "e268ce3c",
   "metadata": {},
   "outputs": [],
   "source": [
    "points = df[['위도','경도']]"
   ]
  },
  {
   "cell_type": "code",
   "execution_count": 63,
   "id": "be4acca7",
   "metadata": {},
   "outputs": [
    {
     "data": {
      "text/html": [
       "<div>\n",
       "<style scoped>\n",
       "    .dataframe tbody tr th:only-of-type {\n",
       "        vertical-align: middle;\n",
       "    }\n",
       "\n",
       "    .dataframe tbody tr th {\n",
       "        vertical-align: top;\n",
       "    }\n",
       "\n",
       "    .dataframe thead th {\n",
       "        text-align: right;\n",
       "    }\n",
       "</style>\n",
       "<table border=\"1\" class=\"dataframe\">\n",
       "  <thead>\n",
       "    <tr style=\"text-align: right;\">\n",
       "      <th></th>\n",
       "      <th>위도</th>\n",
       "      <th>경도</th>\n",
       "    </tr>\n",
       "  </thead>\n",
       "  <tbody>\n",
       "    <tr>\n",
       "      <th>0</th>\n",
       "      <td>37.522346</td>\n",
       "      <td>127.018259</td>\n",
       "    </tr>\n",
       "    <tr>\n",
       "      <th>1</th>\n",
       "      <td>37.510909</td>\n",
       "      <td>127.052322</td>\n",
       "    </tr>\n",
       "    <tr>\n",
       "      <th>2</th>\n",
       "      <td>37.515947</td>\n",
       "      <td>127.038082</td>\n",
       "    </tr>\n",
       "    <tr>\n",
       "      <th>3</th>\n",
       "      <td>37.525020</td>\n",
       "      <td>127.042083</td>\n",
       "    </tr>\n",
       "    <tr>\n",
       "      <th>4</th>\n",
       "      <td>37.500139</td>\n",
       "      <td>127.025509</td>\n",
       "    </tr>\n",
       "  </tbody>\n",
       "</table>\n",
       "</div>"
      ],
      "text/plain": [
       "          위도          경도\n",
       "0  37.522346  127.018259\n",
       "1  37.510909  127.052322\n",
       "2  37.515947  127.038082\n",
       "3  37.525020  127.042083\n",
       "4  37.500139  127.025509"
      ]
     },
     "execution_count": 63,
     "metadata": {},
     "output_type": "execute_result"
    }
   ],
   "source": [
    "points.head()"
   ]
  },
  {
   "cell_type": "code",
   "execution_count": 64,
   "id": "154c5b27",
   "metadata": {},
   "outputs": [],
   "source": [
    "points.columns = [\"x\",\"y\"]"
   ]
  },
  {
   "cell_type": "code",
   "execution_count": 65,
   "id": "78d44a33",
   "metadata": {},
   "outputs": [],
   "source": [
    "sns.set_palette(\"Set2\")"
   ]
  },
  {
   "cell_type": "code",
   "execution_count": 66,
   "id": "7c877567",
   "metadata": {},
   "outputs": [
    {
     "data": {
      "text/plain": [
       "<AxesSubplot:xlabel='x', ylabel='y'>"
      ]
     },
     "execution_count": 66,
     "metadata": {},
     "output_type": "execute_result"
    },
    {
     "data": {
      "image/png": "[encoded data removed]",
      "text/plain": [
       "<Figure size 432x288 with 1 Axes>"
      ]
     },
     "metadata": {
      "needs_background": "light"
     },
     "output_type": "display_data"
    }
   ],
   "source": [
    "sns.scatterplot(x=\"x\",y=\"y\",data=points,palette=\"Set2\")"
   ]
  },
  {
   "cell_type": "code",
   "execution_count": 67,
   "id": "b94b846f",
   "metadata": {},
   "outputs": [
    {
     "name": "stderr",
     "output_type": "stream",
     "text": [
      "/var/folders/d2/20dks6yj46b_077x0h5fmr740000gn/T/ipykernel_1538/1620305212.py:2: SettingWithCopyWarning: \n",
      "A value is trying to be set on a copy of a slice from a DataFrame\n",
      "\n",
      "See the caveats in the documentation: https://pandas.pydata.org/pandas-docs/stable/user_guide/indexing.html#returning-a-view-versus-a-copy\n",
      "  points.replace([np.inf],np.nan,inplace=True)\n"
     ]
    }
   ],
   "source": [
    "#inf로 된 결측치 제거 3개\n",
    "points.replace([np.inf],np.nan,inplace=True)"
   ]
  },
  {
   "cell_type": "code",
   "execution_count": 68,
   "id": "291ffa08",
   "metadata": {},
   "outputs": [
    {
     "name": "stderr",
     "output_type": "stream",
     "text": [
      "/var/folders/d2/20dks6yj46b_077x0h5fmr740000gn/T/ipykernel_1538/292313200.py:1: SettingWithCopyWarning: \n",
      "A value is trying to be set on a copy of a slice from a DataFrame\n",
      "\n",
      "See the caveats in the documentation: https://pandas.pydata.org/pandas-docs/stable/user_guide/indexing.html#returning-a-view-versus-a-copy\n",
      "  points.dropna(subset=[\"x\",\"y\"],how=\"all\",inplace = True)\n"
     ]
    }
   ],
   "source": [
    "points.dropna(subset=[\"x\",\"y\"],how=\"all\",inplace = True)"
   ]
  },
  {
   "cell_type": "code",
   "execution_count": 106,
   "id": "aaa73bae",
   "metadata": {},
   "outputs": [
    {
     "data": {
      "text/plain": [
       "KMeans()"
      ]
     },
     "execution_count": 106,
     "metadata": {},
     "output_type": "execute_result"
    }
   ],
   "source": [
    "num_cluster = 8\n",
    "kmeans = KMeans(n_clusters=num_cluster)\n",
    "kmeans.fit(points)"
   ]
  },
  {
   "cell_type": "code",
   "execution_count": 107,
   "id": "f16ae08c",
   "metadata": {},
   "outputs": [
    {
     "data": {
      "text/html": [
       "<div>\n",
       "<style scoped>\n",
       "    .dataframe tbody tr th:only-of-type {\n",
       "        vertical-align: middle;\n",
       "    }\n",
       "\n",
       "    .dataframe tbody tr th {\n",
       "        vertical-align: top;\n",
       "    }\n",
       "\n",
       "    .dataframe thead th {\n",
       "        text-align: right;\n",
       "    }\n",
       "</style>\n",
       "<table border=\"1\" class=\"dataframe\">\n",
       "  <thead>\n",
       "    <tr style=\"text-align: right;\">\n",
       "      <th></th>\n",
       "      <th>x</th>\n",
       "      <th>y</th>\n",
       "      <th>cluster</th>\n",
       "    </tr>\n",
       "  </thead>\n",
       "  <tbody>\n",
       "    <tr>\n",
       "      <th>0</th>\n",
       "      <td>37.522346</td>\n",
       "      <td>127.018259</td>\n",
       "      <td>3</td>\n",
       "    </tr>\n",
       "    <tr>\n",
       "      <th>1</th>\n",
       "      <td>37.510909</td>\n",
       "      <td>127.052322</td>\n",
       "      <td>2</td>\n",
       "    </tr>\n",
       "    <tr>\n",
       "      <th>2</th>\n",
       "      <td>37.515947</td>\n",
       "      <td>127.038082</td>\n",
       "      <td>6</td>\n",
       "    </tr>\n",
       "    <tr>\n",
       "      <th>3</th>\n",
       "      <td>37.525020</td>\n",
       "      <td>127.042083</td>\n",
       "      <td>1</td>\n",
       "    </tr>\n",
       "    <tr>\n",
       "      <th>4</th>\n",
       "      <td>37.500139</td>\n",
       "      <td>127.025509</td>\n",
       "      <td>0</td>\n",
       "    </tr>\n",
       "  </tbody>\n",
       "</table>\n",
       "</div>"
      ],
      "text/plain": [
       "           x           y  cluster\n",
       "0  37.522346  127.018259        3\n",
       "1  37.510909  127.052322        2\n",
       "2  37.515947  127.038082        6\n",
       "3  37.525020  127.042083        1\n",
       "4  37.500139  127.025509        0"
      ]
     },
     "execution_count": 107,
     "metadata": {},
     "output_type": "execute_result"
    }
   ],
   "source": [
    "result_by_sklearn = points.copy()\n",
    "result_by_sklearn[\"cluster\"] = kmeans.labels_\n",
    "result_by_sklearn.head()"
   ]
  },
  {
   "cell_type": "code",
   "execution_count": 108,
   "id": "4b84aa91",
   "metadata": {},
   "outputs": [
    {
     "data": {
      "text/plain": [
       "<AxesSubplot:xlabel='x', ylabel='y'>"
      ]
     },
     "execution_count": 108,
     "metadata": {},
     "output_type": "execute_result"
    },
    {
     "data": {
      "image/png": "[encoded data removed]",
      "text/plain": [
       "<Figure size 432x288 with 1 Axes>"
      ]
     },
     "metadata": {
      "needs_background": "light"
     },
     "output_type": "display_data"
    }
   ],
   "source": [
    "sns.scatterplot(x=\"x\",y=\"y\",hue=\"cluster\",data=result_by_sklearn,palette=\"Set2\")"
   ]
  },
  {
   "cell_type": "code",
   "execution_count": 109,
   "id": "ccc14053",
   "metadata": {
    "scrolled": true
   },
   "outputs": [
    {
     "data": {
      "text/html": [
       "<div>\n",
       "<style scoped>\n",
       "    .dataframe tbody tr th:only-of-type {\n",
       "        vertical-align: middle;\n",
       "    }\n",
       "\n",
       "    .dataframe tbody tr th {\n",
       "        vertical-align: top;\n",
       "    }\n",
       "\n",
       "    .dataframe thead th {\n",
       "        text-align: right;\n",
       "    }\n",
       "</style>\n",
       "<table border=\"1\" class=\"dataframe\">\n",
       "  <thead>\n",
       "    <tr style=\"text-align: right;\">\n",
       "      <th></th>\n",
       "      <th>x</th>\n",
       "      <th>y</th>\n",
       "      <th>cluster</th>\n",
       "    </tr>\n",
       "  </thead>\n",
       "  <tbody>\n",
       "    <tr>\n",
       "      <th>0</th>\n",
       "      <td>37.522346</td>\n",
       "      <td>127.018259</td>\n",
       "      <td>3</td>\n",
       "    </tr>\n",
       "    <tr>\n",
       "      <th>1</th>\n",
       "      <td>37.510909</td>\n",
       "      <td>127.052322</td>\n",
       "      <td>2</td>\n",
       "    </tr>\n",
       "    <tr>\n",
       "      <th>2</th>\n",
       "      <td>37.515947</td>\n",
       "      <td>127.038082</td>\n",
       "      <td>6</td>\n",
       "    </tr>\n",
       "    <tr>\n",
       "      <th>3</th>\n",
       "      <td>37.525020</td>\n",
       "      <td>127.042083</td>\n",
       "      <td>1</td>\n",
       "    </tr>\n",
       "    <tr>\n",
       "      <th>4</th>\n",
       "      <td>37.500139</td>\n",
       "      <td>127.025509</td>\n",
       "      <td>0</td>\n",
       "    </tr>\n",
       "    <tr>\n",
       "      <th>...</th>\n",
       "      <td>...</td>\n",
       "      <td>...</td>\n",
       "      <td>...</td>\n",
       "    </tr>\n",
       "    <tr>\n",
       "      <th>495</th>\n",
       "      <td>37.525560</td>\n",
       "      <td>127.030005</td>\n",
       "      <td>1</td>\n",
       "    </tr>\n",
       "    <tr>\n",
       "      <th>496</th>\n",
       "      <td>37.494216</td>\n",
       "      <td>127.074727</td>\n",
       "      <td>4</td>\n",
       "    </tr>\n",
       "    <tr>\n",
       "      <th>497</th>\n",
       "      <td>37.516154</td>\n",
       "      <td>127.036136</td>\n",
       "      <td>6</td>\n",
       "    </tr>\n",
       "    <tr>\n",
       "      <th>498</th>\n",
       "      <td>37.508518</td>\n",
       "      <td>127.031186</td>\n",
       "      <td>6</td>\n",
       "    </tr>\n",
       "    <tr>\n",
       "      <th>499</th>\n",
       "      <td>37.505850</td>\n",
       "      <td>127.056129</td>\n",
       "      <td>2</td>\n",
       "    </tr>\n",
       "  </tbody>\n",
       "</table>\n",
       "<p>500 rows × 3 columns</p>\n",
       "</div>"
      ],
      "text/plain": [
       "             x           y  cluster\n",
       "0    37.522346  127.018259        3\n",
       "1    37.510909  127.052322        2\n",
       "2    37.515947  127.038082        6\n",
       "3    37.525020  127.042083        1\n",
       "4    37.500139  127.025509        0\n",
       "..         ...         ...      ...\n",
       "495  37.525560  127.030005        1\n",
       "496  37.494216  127.074727        4\n",
       "497  37.516154  127.036136        6\n",
       "498  37.508518  127.031186        6\n",
       "499  37.505850  127.056129        2\n",
       "\n",
       "[500 rows x 3 columns]"
      ]
     },
     "execution_count": 109,
     "metadata": {},
     "output_type": "execute_result"
    }
   ],
   "source": [
    "#결측치로 제거된 index를 고려하여 재배열\n",
    "result_by_sklearn = result_by_sklearn.reset_index()\n",
    "result_by_sklearn = result_by_sklearn[['x','y','cluster']]\n",
    "result_by_sklearn"
   ]
  },
  {
   "cell_type": "code",
   "execution_count": 110,
   "id": "a08fd581",
   "metadata": {},
   "outputs": [
    {
     "data": {
      "text/plain": [
       "array([[ 37.49693868, 127.02994183],\n",
       "       [ 37.52432606, 127.0371989 ],\n",
       "       [ 37.50616698, 127.05464728],\n",
       "       [ 37.52040847, 127.02139743],\n",
       "       [ 37.48571869, 127.08811126],\n",
       "       [ 37.48464259, 127.04215634],\n",
       "       [ 37.50825644, 127.03700548],\n",
       "       [ 37.50718732, 127.02233415]])"
      ]
     },
     "execution_count": 110,
     "metadata": {},
     "output_type": "execute_result"
    }
   ],
   "source": [
    "kmeans.cluster_centers_"
   ]
  },
  {
   "cell_type": "code",
   "execution_count": 111,
   "id": "29b650ac",
   "metadata": {},
   "outputs": [
    {
     "data": {
      "text/html": [
       "<div>\n",
       "<style scoped>\n",
       "    .dataframe tbody tr th:only-of-type {\n",
       "        vertical-align: middle;\n",
       "    }\n",
       "\n",
       "    .dataframe tbody tr th {\n",
       "        vertical-align: top;\n",
       "    }\n",
       "\n",
       "    .dataframe thead th {\n",
       "        text-align: right;\n",
       "    }\n",
       "</style>\n",
       "<table border=\"1\" class=\"dataframe\">\n",
       "  <thead>\n",
       "    <tr style=\"text-align: right;\">\n",
       "      <th></th>\n",
       "      <th>dist</th>\n",
       "    </tr>\n",
       "  </thead>\n",
       "  <tbody>\n",
       "    <tr>\n",
       "      <th>0</th>\n",
       "      <td>350.772757</td>\n",
       "    </tr>\n",
       "    <tr>\n",
       "      <th>1</th>\n",
       "      <td>565.738425</td>\n",
       "    </tr>\n",
       "    <tr>\n",
       "      <th>2</th>\n",
       "      <td>860.390768</td>\n",
       "    </tr>\n",
       "    <tr>\n",
       "      <th>3</th>\n",
       "      <td>437.558176</td>\n",
       "    </tr>\n",
       "    <tr>\n",
       "      <th>4</th>\n",
       "      <td>528.730192</td>\n",
       "    </tr>\n",
       "    <tr>\n",
       "      <th>...</th>\n",
       "      <td>...</td>\n",
       "    </tr>\n",
       "    <tr>\n",
       "      <th>495</th>\n",
       "      <td>649.104386</td>\n",
       "    </tr>\n",
       "    <tr>\n",
       "      <th>496</th>\n",
       "      <td>1512.376563</td>\n",
       "    </tr>\n",
       "    <tr>\n",
       "      <th>497</th>\n",
       "      <td>881.466596</td>\n",
       "    </tr>\n",
       "    <tr>\n",
       "      <th>498</th>\n",
       "      <td>514.107370</td>\n",
       "    </tr>\n",
       "    <tr>\n",
       "      <th>499</th>\n",
       "      <td>135.356961</td>\n",
       "    </tr>\n",
       "  </tbody>\n",
       "</table>\n",
       "<p>500 rows × 1 columns</p>\n",
       "</div>"
      ],
      "text/plain": [
       "            dist\n",
       "0     350.772757\n",
       "1     565.738425\n",
       "2     860.390768\n",
       "3     437.558176\n",
       "4     528.730192\n",
       "..           ...\n",
       "495   649.104386\n",
       "496  1512.376563\n",
       "497   881.466596\n",
       "498   514.107370\n",
       "499   135.356961\n",
       "\n",
       "[500 rows x 1 columns]"
      ]
     },
     "execution_count": 111,
     "metadata": {},
     "output_type": "execute_result"
    }
   ],
   "source": [
    "centers = kmeans.cluster_centers_\n",
    "\n",
    "#cluster의 center에서 가장 먼 거리에 있는 point뽑기\n",
    "dist_points = [math.inf for i in range(500)]\n",
    "\n",
    "#모든 centroid부터의 거리가 주어지므로 가장 짧은 거리를 선택(자신이 속하는 cluster의 centroid와의 거리)\n",
    "for i,location in result_by_sklearn.iterrows():\n",
    "    for j in range(num_cluster): #cluster의 수만큼\n",
    "        center = tuple(centers[j])\n",
    "        point = (location['x'],location['y'])\n",
    "        dist_points[i] = min(dist_points[i],haversine(center,point)*1000)\n",
    "\n",
    "#np array type의 distance를 pandas series로 변환\n",
    "dist_points = pd.DataFrame(dist_points,columns = ['dist'])\n",
    "dist_points"
   ]
  },
  {
   "cell_type": "code",
   "execution_count": 112,
   "id": "5ca645a9",
   "metadata": {},
   "outputs": [
    {
     "data": {
      "text/html": [
       "<div>\n",
       "<style scoped>\n",
       "    .dataframe tbody tr th:only-of-type {\n",
       "        vertical-align: middle;\n",
       "    }\n",
       "\n",
       "    .dataframe tbody tr th {\n",
       "        vertical-align: top;\n",
       "    }\n",
       "\n",
       "    .dataframe thead th {\n",
       "        text-align: right;\n",
       "    }\n",
       "</style>\n",
       "<table border=\"1\" class=\"dataframe\">\n",
       "  <thead>\n",
       "    <tr style=\"text-align: right;\">\n",
       "      <th></th>\n",
       "      <th>x</th>\n",
       "      <th>y</th>\n",
       "      <th>cluster</th>\n",
       "      <th>dist</th>\n",
       "    </tr>\n",
       "  </thead>\n",
       "  <tbody>\n",
       "    <tr>\n",
       "      <th>0</th>\n",
       "      <td>37.522346</td>\n",
       "      <td>127.018259</td>\n",
       "      <td>3</td>\n",
       "      <td>350.772757</td>\n",
       "    </tr>\n",
       "    <tr>\n",
       "      <th>1</th>\n",
       "      <td>37.510909</td>\n",
       "      <td>127.052322</td>\n",
       "      <td>2</td>\n",
       "      <td>565.738425</td>\n",
       "    </tr>\n",
       "    <tr>\n",
       "      <th>2</th>\n",
       "      <td>37.515947</td>\n",
       "      <td>127.038082</td>\n",
       "      <td>6</td>\n",
       "      <td>860.390768</td>\n",
       "    </tr>\n",
       "    <tr>\n",
       "      <th>3</th>\n",
       "      <td>37.525020</td>\n",
       "      <td>127.042083</td>\n",
       "      <td>1</td>\n",
       "      <td>437.558176</td>\n",
       "    </tr>\n",
       "    <tr>\n",
       "      <th>4</th>\n",
       "      <td>37.500139</td>\n",
       "      <td>127.025509</td>\n",
       "      <td>0</td>\n",
       "      <td>528.730192</td>\n",
       "    </tr>\n",
       "    <tr>\n",
       "      <th>...</th>\n",
       "      <td>...</td>\n",
       "      <td>...</td>\n",
       "      <td>...</td>\n",
       "      <td>...</td>\n",
       "    </tr>\n",
       "    <tr>\n",
       "      <th>495</th>\n",
       "      <td>37.525560</td>\n",
       "      <td>127.030005</td>\n",
       "      <td>1</td>\n",
       "      <td>649.104386</td>\n",
       "    </tr>\n",
       "    <tr>\n",
       "      <th>496</th>\n",
       "      <td>37.494216</td>\n",
       "      <td>127.074727</td>\n",
       "      <td>4</td>\n",
       "      <td>1512.376563</td>\n",
       "    </tr>\n",
       "    <tr>\n",
       "      <th>497</th>\n",
       "      <td>37.516154</td>\n",
       "      <td>127.036136</td>\n",
       "      <td>6</td>\n",
       "      <td>881.466596</td>\n",
       "    </tr>\n",
       "    <tr>\n",
       "      <th>498</th>\n",
       "      <td>37.508518</td>\n",
       "      <td>127.031186</td>\n",
       "      <td>6</td>\n",
       "      <td>514.107370</td>\n",
       "    </tr>\n",
       "    <tr>\n",
       "      <th>499</th>\n",
       "      <td>37.505850</td>\n",
       "      <td>127.056129</td>\n",
       "      <td>2</td>\n",
       "      <td>135.356961</td>\n",
       "    </tr>\n",
       "  </tbody>\n",
       "</table>\n",
       "<p>500 rows × 4 columns</p>\n",
       "</div>"
      ],
      "text/plain": [
       "             x           y  cluster         dist\n",
       "0    37.522346  127.018259        3   350.772757\n",
       "1    37.510909  127.052322        2   565.738425\n",
       "2    37.515947  127.038082        6   860.390768\n",
       "3    37.525020  127.042083        1   437.558176\n",
       "4    37.500139  127.025509        0   528.730192\n",
       "..         ...         ...      ...          ...\n",
       "495  37.525560  127.030005        1   649.104386\n",
       "496  37.494216  127.074727        4  1512.376563\n",
       "497  37.516154  127.036136        6   881.466596\n",
       "498  37.508518  127.031186        6   514.107370\n",
       "499  37.505850  127.056129        2   135.356961\n",
       "\n",
       "[500 rows x 4 columns]"
      ]
     },
     "execution_count": 112,
     "metadata": {},
     "output_type": "execute_result"
    }
   ],
   "source": [
    "result_plus_dist = pd.concat([result_by_sklearn,dist_points],axis=1)\n",
    "result_plus_dist"
   ]
  },
  {
   "cell_type": "code",
   "execution_count": 113,
   "id": "60d3c7f2",
   "metadata": {},
   "outputs": [
    {
     "data": {
      "text/plain": [
       "pandas.core.frame.DataFrame"
      ]
     },
     "execution_count": 113,
     "metadata": {},
     "output_type": "execute_result"
    }
   ],
   "source": [
    "#cluster를 기준으로 sorting\n",
    "result_plus_dist = result_plus_dist.sort_values(by='cluster')\n",
    "result_plus_dist = result_plus_dist.reset_index()\n",
    "type(result_plus_dist)"
   ]
  },
  {
   "cell_type": "code",
   "execution_count": 114,
   "id": "6f3b6b69",
   "metadata": {
    "scrolled": true
   },
   "outputs": [
    {
     "data": {
      "text/plain": [
       "[829.7814112258337,\n",
       " 1338.593946416469,\n",
       " 2021.7996147698432,\n",
       " 1439.2997117617883,\n",
       " 2314.57909345091,\n",
       " 1401.15830929645,\n",
       " 1010.3658231309,\n",
       " 619.7638588002034]"
      ]
     },
     "execution_count": 114,
     "metadata": {},
     "output_type": "execute_result"
    }
   ],
   "source": [
    "#cluster의 radius가 될 각 cluster별 max_distance 뽑기\n",
    "max_distance = [0 for i in range(num_cluster)]\n",
    "\n",
    "for i,data in result_plus_dist.iterrows():\n",
    "    max_distance[int(data['cluster'])] = max(max_distance[int(data['cluster'])],data['dist'])\n",
    "    \n",
    "\n",
    "max_distance"
   ]
  },
  {
   "cell_type": "code",
   "execution_count": 116,
   "id": "3a48b5b2",
   "metadata": {},
   "outputs": [],
   "source": [
    "result_plus_dist.to_csv('/Users/juhong/Library/CloudStorage/OneDrive-아주대학교/대학교/3학년 2학기/캡스톤/DUI-traffic-stop-recommendation/k_means/points_denoted_cluster_dist.csv',encoding ='cp949')"
   ]
  },
  {
   "cell_type": "code",
   "execution_count": 95,
   "id": "48db9b97",
   "metadata": {},
   "outputs": [
    {
     "name": "stdout",
     "output_type": "stream",
     "text": [
      "139 index       187.000000\n",
      "x            37.473684\n",
      "y           127.048379\n",
      "cluster       1.000000\n",
      "dist       2827.479034\n",
      "Name: 139, dtype: float64\n",
      "5.6366153475062655\n",
      "2.8274790339613474\n",
      "3.561857792007911\n",
      "3.752672830120366\n",
      "5.127482261084931\n"
     ]
    }
   ],
   "source": [
    "for i,data in result_plus_dist.iterrows():\n",
    "    if(int(data['dist'])==2827):\n",
    "        print(i,data)\n",
    "        for j in range(num_cluster):\n",
    "            print(haversine(centers[j],(data['x'],data['y'])))"
   ]
  },
  {
   "cell_type": "code",
   "execution_count": null,
   "id": "aadfa3b5",
   "metadata": {},
   "outputs": [],
   "source": []
  }
 ],
 "metadata": {
  "kernelspec": {
   "display_name": "Python 3 (ipykernel)",
   "language": "python",
   "name": "python3"
  },
  "language_info": {
   "codemirror_mode": {
    "name": "ipython",
    "version": 3
   },
   "file_extension": ".py",
   "mimetype": "text/x-python",
   "name": "python",
   "nbconvert_exporter": "python",
   "pygments_lexer": "ipython3",
   "version": "3.9.12"
  }
 },
 "nbformat": 4,
 "nbformat_minor": 5
}

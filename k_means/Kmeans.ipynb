{
 "cells": [
  {
   "cell_type": "code",
   "execution_count": 18,
   "id": "76a5efd5",
   "metadata": {},
   "outputs": [],
   "source": [
    "from sklearn.datasets import make_blobs\n",
    "import pandas as pd\n",
    "import numpy as np\n",
    "import math\n",
    "import scipy as sp\n",
    "import seaborn as sns\n",
    "import matplotlib.pyplot as plt\n",
    "from sklearn.cluster import KMeans"
   ]
  },
  {
   "cell_type": "code",
   "execution_count": 6,
   "id": "e128d67d",
   "metadata": {},
   "outputs": [],
   "source": [
    "df = pd.read_csv(\"/Users/juhong/Library/CloudStorage/OneDrive-아주대학교/대학교/3학년 2학기/캡스톤/DUI-traffic-stop-recommendation/bar_list.csv\",encoding=\"CP949\")"
   ]
  },
  {
   "cell_type": "code",
   "execution_count": 7,
   "id": "f137f273",
   "metadata": {},
   "outputs": [
    {
     "data": {
      "text/html": [
       "<div>\n",
       "<style scoped>\n",
       "    .dataframe tbody tr th:only-of-type {\n",
       "        vertical-align: middle;\n",
       "    }\n",
       "\n",
       "    .dataframe tbody tr th {\n",
       "        vertical-align: top;\n",
       "    }\n",
       "\n",
       "    .dataframe thead th {\n",
       "        text-align: right;\n",
       "    }\n",
       "</style>\n",
       "<table border=\"1\" class=\"dataframe\">\n",
       "  <thead>\n",
       "    <tr style=\"text-align: right;\">\n",
       "      <th></th>\n",
       "      <th>Unnamed: 0</th>\n",
       "      <th>지번주소</th>\n",
       "      <th>도로명주소</th>\n",
       "      <th>사업장명</th>\n",
       "      <th>위도</th>\n",
       "      <th>경도</th>\n",
       "    </tr>\n",
       "  </thead>\n",
       "  <tbody>\n",
       "    <tr>\n",
       "      <th>0</th>\n",
       "      <td>0</td>\n",
       "      <td>서울특별시 강남구 신사동 525-13 지상1층101102호</td>\n",
       "      <td>서울특별시 강남구 압구정로4길 13-13 (신사동지상1층101102호)</td>\n",
       "      <td>르포트 13</td>\n",
       "      <td>37.522346</td>\n",
       "      <td>127.018259</td>\n",
       "    </tr>\n",
       "    <tr>\n",
       "      <th>1</th>\n",
       "      <td>1</td>\n",
       "      <td>서울특별시 강남구 삼성동 150-21번지 지상1층</td>\n",
       "      <td>서울특별시 강남구 삼성로104길 7 (삼성동지상1층)</td>\n",
       "      <td>한탕</td>\n",
       "      <td>37.510909</td>\n",
       "      <td>127.052322</td>\n",
       "    </tr>\n",
       "    <tr>\n",
       "      <th>2</th>\n",
       "      <td>2</td>\n",
       "      <td>서울특별시 강남구 논현동 242-21 삼아프라자</td>\n",
       "      <td>서울특별시 강남구 선릉로129길 3-6 삼아프라자 1층 101호 (논현동)</td>\n",
       "      <td>묵호일식</td>\n",
       "      <td>37.515947</td>\n",
       "      <td>127.038082</td>\n",
       "    </tr>\n",
       "    <tr>\n",
       "      <th>3</th>\n",
       "      <td>3</td>\n",
       "      <td>서울특별시 강남구 청담동 95-15번지 지상2층</td>\n",
       "      <td>서울특별시 강남구 압구정로72길 22 지상2층 (청담동)</td>\n",
       "      <td>볼트스테이크하우스(Vault steak house)</td>\n",
       "      <td>37.525020</td>\n",
       "      <td>127.042083</td>\n",
       "    </tr>\n",
       "    <tr>\n",
       "      <th>4</th>\n",
       "      <td>4</td>\n",
       "      <td>서울특별시 강남구 역삼동 817-21 지상1층</td>\n",
       "      <td>서울특별시 강남구 강남대로96길 17 (역삼동지상1층)</td>\n",
       "      <td>용용선생 강남역점</td>\n",
       "      <td>37.500139</td>\n",
       "      <td>127.025509</td>\n",
       "    </tr>\n",
       "  </tbody>\n",
       "</table>\n",
       "</div>"
      ],
      "text/plain": [
       "   Unnamed: 0                               지번주소  \\\n",
       "0           0  서울특별시 강남구 신사동 525-13 지상1층101102호    \n",
       "1           1       서울특별시 강남구 삼성동 150-21번지 지상1층    \n",
       "2           2        서울특별시 강남구 논현동 242-21 삼아프라자    \n",
       "3           3        서울특별시 강남구 청담동 95-15번지 지상2층    \n",
       "4           4         서울특별시 강남구 역삼동 817-21 지상1층    \n",
       "\n",
       "                                       도로명주소                          사업장명  \\\n",
       "0    서울특별시 강남구 압구정로4길 13-13 (신사동지상1층101102호)                        르포트 13   \n",
       "1              서울특별시 강남구 삼성로104길 7 (삼성동지상1층)                            한탕   \n",
       "2  서울특별시 강남구 선릉로129길 3-6 삼아프라자 1층 101호 (논현동)                          묵호일식   \n",
       "3            서울특별시 강남구 압구정로72길 22 지상2층 (청담동)  볼트스테이크하우스(Vault steak house)   \n",
       "4             서울특별시 강남구 강남대로96길 17 (역삼동지상1층)                     용용선생 강남역점   \n",
       "\n",
       "          위도          경도  \n",
       "0  37.522346  127.018259  \n",
       "1  37.510909  127.052322  \n",
       "2  37.515947  127.038082  \n",
       "3  37.525020  127.042083  \n",
       "4  37.500139  127.025509  "
      ]
     },
     "execution_count": 7,
     "metadata": {},
     "output_type": "execute_result"
    }
   ],
   "source": [
    "df.head()"
   ]
  },
  {
   "cell_type": "code",
   "execution_count": 13,
   "id": "e268ce3c",
   "metadata": {},
   "outputs": [],
   "source": [
    "points = df[['위도','경도']]"
   ]
  },
  {
   "cell_type": "code",
   "execution_count": 16,
   "id": "be4acca7",
   "metadata": {},
   "outputs": [
    {
     "data": {
      "text/html": [
       "<div>\n",
       "<style scoped>\n",
       "    .dataframe tbody tr th:only-of-type {\n",
       "        vertical-align: middle;\n",
       "    }\n",
       "\n",
       "    .dataframe tbody tr th {\n",
       "        vertical-align: top;\n",
       "    }\n",
       "\n",
       "    .dataframe thead th {\n",
       "        text-align: right;\n",
       "    }\n",
       "</style>\n",
       "<table border=\"1\" class=\"dataframe\">\n",
       "  <thead>\n",
       "    <tr style=\"text-align: right;\">\n",
       "      <th></th>\n",
       "      <th>x</th>\n",
       "      <th>y</th>\n",
       "    </tr>\n",
       "  </thead>\n",
       "  <tbody>\n",
       "    <tr>\n",
       "      <th>0</th>\n",
       "      <td>37.522346</td>\n",
       "      <td>127.018259</td>\n",
       "    </tr>\n",
       "    <tr>\n",
       "      <th>1</th>\n",
       "      <td>37.510909</td>\n",
       "      <td>127.052322</td>\n",
       "    </tr>\n",
       "    <tr>\n",
       "      <th>2</th>\n",
       "      <td>37.515947</td>\n",
       "      <td>127.038082</td>\n",
       "    </tr>\n",
       "    <tr>\n",
       "      <th>3</th>\n",
       "      <td>37.525020</td>\n",
       "      <td>127.042083</td>\n",
       "    </tr>\n",
       "    <tr>\n",
       "      <th>4</th>\n",
       "      <td>37.500139</td>\n",
       "      <td>127.025509</td>\n",
       "    </tr>\n",
       "  </tbody>\n",
       "</table>\n",
       "</div>"
      ],
      "text/plain": [
       "           x           y\n",
       "0  37.522346  127.018259\n",
       "1  37.510909  127.052322\n",
       "2  37.515947  127.038082\n",
       "3  37.525020  127.042083\n",
       "4  37.500139  127.025509"
      ]
     },
     "execution_count": 16,
     "metadata": {},
     "output_type": "execute_result"
    }
   ],
   "source": [
    "points.head()"
   ]
  },
  {
   "cell_type": "code",
   "execution_count": 15,
   "id": "154c5b27",
   "metadata": {},
   "outputs": [],
   "source": [
    "points.columns = [\"x\",\"y\"]"
   ]
  },
  {
   "cell_type": "code",
   "execution_count": null,
   "id": "78d44a33",
   "metadata": {},
   "outputs": [],
   "source": [
    "sns.set_palette(\"Set2\")"
   ]
  },
  {
   "cell_type": "code",
   "execution_count": 17,
   "id": "7c877567",
   "metadata": {},
   "outputs": [
    {
     "data": {
      "text/plain": [
       "<AxesSubplot:xlabel='x', ylabel='y'>"
      ]
     },
     "execution_count": 17,
     "metadata": {},
     "output_type": "execute_result"
    },
    {
     "data": {
      "image/png": "[encoded data removed]",
      "text/plain": [
       "<Figure size 432x288 with 1 Axes>"
      ]
     },
     "metadata": {
      "needs_background": "light"
     },
     "output_type": "display_data"
    }
   ],
   "source": [
    "sns.scatterplot(x=\"x\",y=\"y\",data=points,palette=\"Set2\")"
   ]
  },
  {
   "cell_type": "code",
   "execution_count": 22,
   "id": "b94b846f",
   "metadata": {},
   "outputs": [
    {
     "name": "stderr",
     "output_type": "stream",
     "text": [
      "/var/folders/d2/20dks6yj46b_077x0h5fmr740000gn/T/ipykernel_6474/1620305212.py:2: SettingWithCopyWarning: \n",
      "A value is trying to be set on a copy of a slice from a DataFrame\n",
      "\n",
      "See the caveats in the documentation: https://pandas.pydata.org/pandas-docs/stable/user_guide/indexing.html#returning-a-view-versus-a-copy\n",
      "  points.replace([np.inf],np.nan,inplace=True)\n"
     ]
    }
   ],
   "source": [
    "#inf로 된 결측치 제거 3개\n",
    "points.replace([np.inf],np.nan,inplace=True)"
   ]
  },
  {
   "cell_type": "code",
   "execution_count": 30,
   "id": "291ffa08",
   "metadata": {},
   "outputs": [
    {
     "name": "stderr",
     "output_type": "stream",
     "text": [
      "/var/folders/d2/20dks6yj46b_077x0h5fmr740000gn/T/ipykernel_6474/292313200.py:1: SettingWithCopyWarning: \n",
      "A value is trying to be set on a copy of a slice from a DataFrame\n",
      "\n",
      "See the caveats in the documentation: https://pandas.pydata.org/pandas-docs/stable/user_guide/indexing.html#returning-a-view-versus-a-copy\n",
      "  points.dropna(subset=[\"x\",\"y\"],how=\"all\",inplace = True)\n"
     ]
    }
   ],
   "source": [
    "points.dropna(subset=[\"x\",\"y\"],how=\"all\",inplace = True)"
   ]
  },
  {
   "cell_type": "code",
   "execution_count": 31,
   "id": "aaa73bae",
   "metadata": {},
   "outputs": [
    {
     "data": {
      "text/plain": [
       "KMeans(n_clusters=5)"
      ]
     },
     "execution_count": 31,
     "metadata": {},
     "output_type": "execute_result"
    }
   ],
   "source": [
    "kmeans = KMeans(n_clusters=5)\n",
    "kmeans.fit(points)"
   ]
  },
  {
   "cell_type": "code",
   "execution_count": 34,
   "id": "f16ae08c",
   "metadata": {},
   "outputs": [
    {
     "data": {
      "text/html": [
       "<div>\n",
       "<style scoped>\n",
       "    .dataframe tbody tr th:only-of-type {\n",
       "        vertical-align: middle;\n",
       "    }\n",
       "\n",
       "    .dataframe tbody tr th {\n",
       "        vertical-align: top;\n",
       "    }\n",
       "\n",
       "    .dataframe thead th {\n",
       "        text-align: right;\n",
       "    }\n",
       "</style>\n",
       "<table border=\"1\" class=\"dataframe\">\n",
       "  <thead>\n",
       "    <tr style=\"text-align: right;\">\n",
       "      <th></th>\n",
       "      <th>x</th>\n",
       "      <th>y</th>\n",
       "      <th>cluster</th>\n",
       "    </tr>\n",
       "  </thead>\n",
       "  <tbody>\n",
       "    <tr>\n",
       "      <th>0</th>\n",
       "      <td>37.522346</td>\n",
       "      <td>127.018259</td>\n",
       "      <td>2</td>\n",
       "    </tr>\n",
       "    <tr>\n",
       "      <th>1</th>\n",
       "      <td>37.510909</td>\n",
       "      <td>127.052322</td>\n",
       "      <td>3</td>\n",
       "    </tr>\n",
       "    <tr>\n",
       "      <th>2</th>\n",
       "      <td>37.515947</td>\n",
       "      <td>127.038082</td>\n",
       "      <td>0</td>\n",
       "    </tr>\n",
       "    <tr>\n",
       "      <th>3</th>\n",
       "      <td>37.525020</td>\n",
       "      <td>127.042083</td>\n",
       "      <td>0</td>\n",
       "    </tr>\n",
       "    <tr>\n",
       "      <th>4</th>\n",
       "      <td>37.500139</td>\n",
       "      <td>127.025509</td>\n",
       "      <td>1</td>\n",
       "    </tr>\n",
       "  </tbody>\n",
       "</table>\n",
       "</div>"
      ],
      "text/plain": [
       "           x           y  cluster\n",
       "0  37.522346  127.018259        2\n",
       "1  37.510909  127.052322        3\n",
       "2  37.515947  127.038082        0\n",
       "3  37.525020  127.042083        0\n",
       "4  37.500139  127.025509        1"
      ]
     },
     "execution_count": 34,
     "metadata": {},
     "output_type": "execute_result"
    }
   ],
   "source": [
    "result_by_sklearn = points.copy()\n",
    "result_by_sklearn[\"cluster\"] = kmeans.labels_\n",
    "result_by_sklearn.head()"
   ]
  },
  {
   "cell_type": "code",
   "execution_count": 36,
   "id": "4b84aa91",
   "metadata": {},
   "outputs": [
    {
     "data": {
      "text/plain": [
       "<AxesSubplot:xlabel='x', ylabel='y'>"
      ]
     },
     "execution_count": 36,
     "metadata": {},
     "output_type": "execute_result"
    },
    {
     "data": {
      "image/png": "[encoded data removed]",
      "text/plain": [
       "<Figure size 432x288 with 1 Axes>"
      ]
     },
     "metadata": {
      "needs_background": "light"
     },
     "output_type": "display_data"
    }
   ],
   "source": [
    "sns.scatterplot(x=\"x\",y=\"y\",hue=\"cluster\",data=result_by_sklearn,palette=\"Set2\")"
   ]
  },
  {
   "cell_type": "code",
   "execution_count": null,
   "id": "2a597f81",
   "metadata": {},
   "outputs": [],
   "source": []
  }
 ],
 "metadata": {
  "kernelspec": {
   "display_name": "Python 3 (ipykernel)",
   "language": "python",
   "name": "python3"
  },
  "language_info": {
   "codemirror_mode": {
    "name": "ipython",
    "version": 3
   },
   "file_extension": ".py",
   "mimetype": "text/x-python",
   "name": "python",
   "nbconvert_exporter": "python",
   "pygments_lexer": "ipython3",
   "version": "3.9.12"
  }
 },
 "nbformat": 4,
 "nbformat_minor": 5
}
